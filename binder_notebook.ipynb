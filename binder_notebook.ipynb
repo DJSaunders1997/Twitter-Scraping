{
 "cells": [
  {
   "attachments": {},
   "cell_type": "markdown",
   "metadata": {},
   "source": [
    "# Twitter Search\n",
    "\n",
    "Notebook to make searching for tweets within a specified date range for a list of users easy."
   ]
  },
  {
   "cell_type": "code",
   "execution_count": 2,
   "metadata": {},
   "outputs": [
    {
     "name": "stdout",
     "output_type": "stream",
     "text": [
      "TwitterScraper v0.1 initialised.\n"
     ]
    }
   ],
   "source": [
    "from twitter_scraping import TwitterScraper\n",
    "\n",
    "key = \"<enter-your-key-here>\"\n",
    "\n",
    "# Intilise twitter scraper.\n",
    "ts = TwitterScraper(key)"
   ]
  },
  {
   "cell_type": "code",
   "execution_count": 3,
   "metadata": {},
   "outputs": [],
   "source": [
    "# Define parameters for query:\n",
    "# Start and end date, and list of users.\n",
    "\n",
    "start_date  = \"2019-10-01T00:00:00.00Z\"\n",
    "end_date    = \"2019-10-10T00:00:00.00Z\"\n",
    "\n",
    "users = [\n",
    "    'ElMercurio_cl',\n",
    "    'latercera',\n",
    "    'La_Segunda'\n",
    "]"
   ]
  },
  {
   "cell_type": "code",
   "execution_count": 4,
   "metadata": {},
   "outputs": [
    {
     "name": "stdout",
     "output_type": "stream",
     "text": [
      "------------------------------\n",
      "User: ElMercurio_cl Number: 1 of 3\n",
      "------------------------------\n",
      "\n",
      "200\n",
      "Tweet 0 from 2019-10-09T23:40:00.000Z\n",
      "200\n",
      "Tweet 100 from 2019-10-08T01:00:00.000Z\n",
      "200\n",
      "Tweet 200 from 2019-10-06T11:00:00.000Z\n",
      "200\n",
      "Tweet 300 from 2019-10-04T00:00:00.000Z\n",
      "200\n",
      "Tweet 400 from 2019-10-01T23:20:00.000Z\n",
      "------------------------------\n",
      "User: latercera Number: 2 of 3\n",
      "------------------------------\n",
      "\n",
      "200\n",
      "Tweet 0 from 2019-10-09T23:55:00.000Z\n",
      "200\n",
      "Tweet 100 from 2019-10-09T15:30:00.000Z\n",
      "200\n",
      "Tweet 200 from 2019-10-08T23:57:00.000Z\n",
      "200\n",
      "Tweet 300 from 2019-10-08T16:00:00.000Z\n",
      "200\n",
      "Tweet 400 from 2019-10-08T01:30:00.000Z\n",
      "200\n",
      "Tweet 500 from 2019-10-07T15:37:00.000Z\n",
      "200\n",
      "Tweet 600 from 2019-10-06T23:00:00.000Z\n",
      "200\n",
      "Tweet 700 from 2019-10-06T06:40:00.000Z\n",
      "200\n",
      "Tweet 800 from 2019-10-05T13:10:00.000Z\n",
      "200\n",
      "Tweet 900 from 2019-10-04T21:10:00.000Z\n",
      "200\n",
      "Tweet 1000 from 2019-10-04T12:18:40.000Z\n",
      "200\n",
      "Tweet 1100 from 2019-10-03T20:23:00.000Z\n",
      "200\n",
      "Tweet 1200 from 2019-10-03T12:00:00.000Z\n",
      "200\n",
      "Tweet 1300 from 2019-10-02T20:25:00.000Z\n",
      "200\n",
      "Tweet 1400 from 2019-10-02T11:56:35.000Z\n",
      "200\n",
      "Tweet 1500 from 2019-10-01T20:20:00.000Z\n",
      "200\n",
      "Tweet 1600 from 2019-10-01T12:20:00.000Z\n",
      "------------------------------\n",
      "User: La_Segunda Number: 3 of 3\n",
      "------------------------------\n",
      "\n",
      "200\n"
     ]
    }
   ],
   "source": [
    "# Get tweets\n",
    "results = ts.get_users_tweets(users, start_date, end_date)"
   ]
  },
  {
   "cell_type": "code",
   "execution_count": 5,
   "metadata": {},
   "outputs": [
    {
     "data": {
      "text/html": [
       "<div>\n",
       "<style scoped>\n",
       "    .dataframe tbody tr th:only-of-type {\n",
       "        vertical-align: middle;\n",
       "    }\n",
       "\n",
       "    .dataframe tbody tr th {\n",
       "        vertical-align: top;\n",
       "    }\n",
       "\n",
       "    .dataframe thead th {\n",
       "        text-align: right;\n",
       "    }\n",
       "</style>\n",
       "<table border=\"1\" class=\"dataframe\">\n",
       "  <thead>\n",
       "    <tr style=\"text-align: right;\">\n",
       "      <th></th>\n",
       "      <th>User</th>\n",
       "      <th>TweetCreated</th>\n",
       "      <th>TweetId</th>\n",
       "    </tr>\n",
       "  </thead>\n",
       "  <tbody>\n",
       "    <tr>\n",
       "      <th>0</th>\n",
       "      <td>ElMercurio_cl</td>\n",
       "      <td>2019-10-09T23:40:00.000Z</td>\n",
       "      <td>1182078287113330688</td>\n",
       "    </tr>\n",
       "    <tr>\n",
       "      <th>1</th>\n",
       "      <td>ElMercurio_cl</td>\n",
       "      <td>2019-10-09T23:20:00.000Z</td>\n",
       "      <td>1182073253935882243</td>\n",
       "    </tr>\n",
       "    <tr>\n",
       "      <th>2</th>\n",
       "      <td>ElMercurio_cl</td>\n",
       "      <td>2019-10-09T23:00:00.000Z</td>\n",
       "      <td>1182068220557086721</td>\n",
       "    </tr>\n",
       "    <tr>\n",
       "      <th>3</th>\n",
       "      <td>ElMercurio_cl</td>\n",
       "      <td>2019-10-09T22:40:00.000Z</td>\n",
       "      <td>1182063187535056896</td>\n",
       "    </tr>\n",
       "    <tr>\n",
       "      <th>4</th>\n",
       "      <td>ElMercurio_cl</td>\n",
       "      <td>2019-10-09T22:20:00.000Z</td>\n",
       "      <td>1182058154542141440</td>\n",
       "    </tr>\n",
       "    <tr>\n",
       "      <th>...</th>\n",
       "      <td>...</td>\n",
       "      <td>...</td>\n",
       "      <td>...</td>\n",
       "    </tr>\n",
       "    <tr>\n",
       "      <th>2114</th>\n",
       "      <td>latercera</td>\n",
       "      <td>2019-10-01T00:30:00.000Z</td>\n",
       "      <td>1178829379440447488</td>\n",
       "    </tr>\n",
       "    <tr>\n",
       "      <th>2115</th>\n",
       "      <td>latercera</td>\n",
       "      <td>2019-10-01T00:25:00.000Z</td>\n",
       "      <td>1178828120914354177</td>\n",
       "    </tr>\n",
       "    <tr>\n",
       "      <th>2116</th>\n",
       "      <td>latercera</td>\n",
       "      <td>2019-10-01T00:20:00.000Z</td>\n",
       "      <td>1178826862539075587</td>\n",
       "    </tr>\n",
       "    <tr>\n",
       "      <th>2117</th>\n",
       "      <td>latercera</td>\n",
       "      <td>2019-10-01T00:10:00.000Z</td>\n",
       "      <td>1178824346065866756</td>\n",
       "    </tr>\n",
       "    <tr>\n",
       "      <th>2118</th>\n",
       "      <td>latercera</td>\n",
       "      <td>2019-10-01T00:00:00.000Z</td>\n",
       "      <td>1178821830645141504</td>\n",
       "    </tr>\n",
       "  </tbody>\n",
       "</table>\n",
       "<p>2119 rows × 3 columns</p>\n",
       "</div>"
      ],
      "text/plain": [
       "               User              TweetCreated              TweetId\n",
       "0     ElMercurio_cl  2019-10-09T23:40:00.000Z  1182078287113330688\n",
       "1     ElMercurio_cl  2019-10-09T23:20:00.000Z  1182073253935882243\n",
       "2     ElMercurio_cl  2019-10-09T23:00:00.000Z  1182068220557086721\n",
       "3     ElMercurio_cl  2019-10-09T22:40:00.000Z  1182063187535056896\n",
       "4     ElMercurio_cl  2019-10-09T22:20:00.000Z  1182058154542141440\n",
       "...             ...                       ...                  ...\n",
       "2114      latercera  2019-10-01T00:30:00.000Z  1178829379440447488\n",
       "2115      latercera  2019-10-01T00:25:00.000Z  1178828120914354177\n",
       "2116      latercera  2019-10-01T00:20:00.000Z  1178826862539075587\n",
       "2117      latercera  2019-10-01T00:10:00.000Z  1178824346065866756\n",
       "2118      latercera  2019-10-01T00:00:00.000Z  1178821830645141504\n",
       "\n",
       "[2119 rows x 3 columns]"
      ]
     },
     "execution_count": 5,
     "metadata": {},
     "output_type": "execute_result"
    }
   ],
   "source": [
    "# View results\n",
    "results"
   ]
  },
  {
   "cell_type": "code",
   "execution_count": 6,
   "metadata": {},
   "outputs": [],
   "source": [
    "# Save data\n",
    "results.to_csv('tweet_data.csv')"
   ]
  },
  {
   "cell_type": "code",
   "execution_count": 10,
   "metadata": {},
   "outputs": [
    {
     "data": {
      "text/plain": [
       "<Axes: title={'center': 'Counts of tweets'}, xlabel='User'>"
      ]
     },
     "execution_count": 10,
     "metadata": {},
     "output_type": "execute_result"
    },
    {
     "data": {
      "image/png": "[encoded data removed]",
      "text/plain": [
       "<Figure size 640x480 with 1 Axes>"
      ]
     },
     "metadata": {},
     "output_type": "display_data"
    }
   ],
   "source": [
    "# View counts of tweets for each user\n",
    "results['User'].value_counts().plot(kind=\"bar\", title=\"Counts of tweets\")"
   ]
  }
 ],
 "metadata": {
  "kernelspec": {
   "display_name": "Python 3.10.4 ('twitter_scraping')",
   "language": "python",
   "name": "python3"
  },
  "language_info": {
   "codemirror_mode": {
    "name": "ipython",
    "version": 3
   },
   "file_extension": ".py",
   "mimetype": "text/x-python",
   "name": "python",
   "nbconvert_exporter": "python",
   "pygments_lexer": "ipython3",
   "version": "3.10.11"
  },
  "orig_nbformat": 2,
  "vscode": {
   "interpreter": {
    "hash": "671e37286a88e4deab955730fbc96219c4d8a59a405d8ba3190d5d9a90bdb905"
   }
  }
 },
 "nbformat": 4,
 "nbformat_minor": 2
}
