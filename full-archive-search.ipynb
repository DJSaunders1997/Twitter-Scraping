{
 "metadata": {
  "language_info": {
   "codemirror_mode": {
    "name": "ipython",
    "version": 3
   },
   "file_extension": ".py",
   "mimetype": "text/x-python",
   "name": "python",
   "nbconvert_exporter": "python",
   "pygments_lexer": "ipython3",
   "version": "3.9.0"
  },
  "orig_nbformat": 2,
  "kernelspec": {
   "name": "python390jvsc74a57bd063fd5069d213b44bf678585dea6b12cceca9941eaf7f819626cde1f2670de90d",
   "display_name": "Python 3.9.0 64-bit"
  }
 },
 "nbformat": 4,
 "nbformat_minor": 2,
 "cells": [
  {
   "source": [
    "# Full Archive Search\n",
    "\n",
    "- Coppying form this github page https://github.com/twitterdev/Twitter-API-v2-sample-code/blob/master/Full-Archive-Search/full-archive-search.py"
   ],
   "cell_type": "markdown",
   "metadata": {}
  },
  {
   "cell_type": "code",
   "execution_count": 86,
   "metadata": {},
   "outputs": [],
   "source": [
    "import time\n",
    "import pandas as pd\n",
    "\n",
    "# to sleep between calls"
   ]
  },
  {
   "cell_type": "code",
   "execution_count": 109,
   "metadata": {},
   "outputs": [],
   "source": [
    "import requests\n",
    "import os\n",
    "import json\n",
    "\n",
    "# To set your environment variables in your terminal run the following line:\n",
    "# export 'BEARER_TOKEN'='<your_bearer_token>'\n",
    "bearer_token = os.environ.get(\"BEARER_TOKEN\")\n",
    "\n",
    "#bearer_token = ''\n",
    "\n",
    "search_url = \"https://api.twitter.com/2/tweets/search/all\"\n",
    "\n",
    "# Optional params: start_time,end_time,since_id,until_id,max_results,next_token,\n",
    "# expansions,tweet.fields,media.fields,poll.fields,place.fields,user.fields\n",
    "query_params = { #\"query\":\"from:CNNChile lang:es\",\n",
    "                'query': '(from:saund97 -is:retweet) ',\n",
    "                'tweet.fields': 'author_id,id,created_at',\n",
    "                \"start_time\":\"2019-10-01T07:20:50.52Z\",\n",
    "                \"end_time\":\"2019-11-01T07:20:50.52Z\",\n",
    "                \"max_results\": \"10\"\n",
    "}\n",
    "\n",
    "#query_params = {'query': 'from:' + user + ' -fromDate:' + startDate + '-toDate:' + endDate}\n",
    "\n",
    "# jacs query # 'query': 'from:' + user + ' -fromDate:' + startDate + '-toDate:' + endDate\n",
    "\n",
    "\n",
    "def create_headers(bearer_token):\n",
    "    headers = {\"Authorization\": \"Bearer {}\".format(bearer_token)}\n",
    "    return headers\n",
    "\n",
    "\n",
    "def connect_to_endpoint(url, headers, params):\n",
    "    response = requests.request(\"GET\", search_url, headers=headers, params=params)\n",
    "    print(response.status_code)\n",
    "    if response.status_code != 200:\n",
    "        print(response.status_code)\n",
    "        raise Exception(response.status_code, response.text)\n",
    "    return response.json()\n",
    "\n",
    "\n",
    "def main():\n",
    "    headers = create_headers(bearer_token)\n",
    "    json_response = connect_to_endpoint(search_url, headers, query_params)\n",
    "    results = json.dumps(json_response, indent=4, sort_keys=True)\n",
    "    #print(json.dumps(json_response, indent=4, sort_keys=True))\n",
    "\n",
    "    return results\n"
   ]
  },
  {
   "cell_type": "code",
   "execution_count": null,
   "metadata": {},
   "outputs": [],
   "source": []
  },
  {
   "cell_type": "code",
   "execution_count": 100,
   "metadata": {},
   "outputs": [
    {
     "output_type": "stream",
     "name": "stdout",
     "text": [
      "200\n"
     ]
    }
   ],
   "source": [
    "results = main()"
   ]
  },
  {
   "cell_type": "code",
   "execution_count": 101,
   "metadata": {},
   "outputs": [],
   "source": [
    "y = json.loads(results)"
   ]
  },
  {
   "cell_type": "code",
   "execution_count": 103,
   "metadata": {},
   "outputs": [
    {
     "output_type": "execute_result",
     "data": {
      "text/plain": [
       "{'meta': {'result_count': 0}}"
      ]
     },
     "metadata": {},
     "execution_count": 103
    }
   ],
   "source": [
    "y"
   ]
  },
  {
   "cell_type": "code",
   "execution_count": 75,
   "metadata": {},
   "outputs": [
    {
     "output_type": "execute_result",
     "data": {
      "text/plain": [
       "10"
      ]
     },
     "metadata": {},
     "execution_count": 75
    }
   ],
   "source": [
    "len(y['data'])"
   ]
  },
  {
   "cell_type": "code",
   "execution_count": 76,
   "metadata": {},
   "outputs": [
    {
     "output_type": "execute_result",
     "data": {
      "text/plain": [
       "'b26v89c19zqg8o3fnm91i40gu1gp7vh7j0r6ddrjyhvul'"
      ]
     },
     "metadata": {},
     "execution_count": 76
    }
   ],
   "source": [
    "y['meta']['next_token']"
   ]
  },
  {
   "cell_type": "code",
   "execution_count": 78,
   "metadata": {},
   "outputs": [],
   "source": [
    "z = json.loads(next_results)"
   ]
  },
  {
   "cell_type": "code",
   "execution_count": 79,
   "metadata": {},
   "outputs": [
    {
     "output_type": "execute_result",
     "data": {
      "text/plain": [
       "10"
      ]
     },
     "metadata": {},
     "execution_count": 79
    }
   ],
   "source": [
    "len(z['data'])"
   ]
  },
  {
   "cell_type": "code",
   "execution_count": 81,
   "metadata": {},
   "outputs": [
    {
     "output_type": "execute_result",
     "data": {
      "text/plain": [
       "[{'author_id': '19017675',\n",
       "  'created_at': '2019-10-27T10:22:53.000Z',\n",
       "  'id': '1188400668983414786',\n",
       "  'text': \"Are Remainer parties holding the country 'hostage over' Brexit?\\n#FarageOnLBC https://t.co/mmYNZ5dPdX\"},\n",
       " {'author_id': '19017675',\n",
       "  'created_at': '2019-10-26T22:29:02.000Z',\n",
       "  'id': '1188221022601990145',\n",
       "  'text': 'Phenomenal performance by my friend Derek tonight. https://t.co/k40HLKUGDa'}]"
      ]
     },
     "metadata": {},
     "execution_count": 81
    }
   ],
   "source": [
    "z['data'][:2]"
   ]
  },
  {
   "cell_type": "code",
   "execution_count": null,
   "metadata": {},
   "outputs": [],
   "source": []
  },
  {
   "cell_type": "code",
   "execution_count": null,
   "metadata": {},
   "outputs": [],
   "source": []
  },
  {
   "cell_type": "code",
   "execution_count": 134,
   "metadata": {},
   "outputs": [
    {
     "output_type": "stream",
     "name": "stdout",
     "text": [
      "200\n1 83\nfinished\n"
     ]
    }
   ],
   "source": [
    "\n",
    "# Get all results from one user\n",
    "\n",
    "num_runs = 0\n",
    "all_results = []\n",
    "\n",
    "result_count = 100  # initilise this as a non-zero number\n",
    "                    # will be filled with respnses from json later \n",
    "                    # can get a max of 100 records at a time\n",
    "                    # so if the results arnt 100 we ran out of things to get\n",
    "\n",
    "while result_count == 100:\n",
    "\n",
    "    time.sleep(1)\n",
    "\n",
    "    if num_runs ==0:\n",
    "        # No next_token parameter\n",
    "        query_params = { #\"query\":\"from:CNNChile lang:es\",\n",
    "                'query': '(from:Nigel_Farage -is:retweet) ',\n",
    "                'tweet.fields': 'author_id,id,created_at',\n",
    "                \"start_time\":\"2019-10-01T07:20:50.52Z\",\n",
    "                \"end_time\":\"2019-11-01T07:20:50.52Z\",\n",
    "                \"max_results\": \"100\"\n",
    "        }\n",
    "    else:\n",
    "        # with next_token\n",
    "        query_params = { #\"query\":\"from:CNNChile lang:es\",\n",
    "                'query': '(from:Nigel_Farage -is:retweet) ',\n",
    "                'tweet.fields': 'author_id,id,created_at',\n",
    "                \"start_time\":\"2019-10-01T07:20:50.52Z\",\n",
    "                \"end_time\":\"2019-11-01T07:20:50.52Z\",\n",
    "                \"max_results\": \"100\",\n",
    "                \"next_token\": results_json['meta']['next_token'] # get token from before: 'b26v89c19zqg8o3fnm91i40gu1gp7vh7j0r6ddrjyhvul'\n",
    "        }\n",
    "\n",
    "    headers = create_headers(bearer_token)\n",
    "    json_response = connect_to_endpoint(search_url, headers, query_params)\n",
    "    results = json.dumps(json_response, indent=4, sort_keys=True)\n",
    "\n",
    "    results_json = json.loads(results)\n",
    "\n",
    "    # append this pagnation to all results\n",
    "    #all_results.append(results_json)\n",
    "    result_count = results_json['meta']['result_count']\n",
    "    num_runs = num_runs + 1\n",
    "    print(num_runs, result_count)\n",
    "\n",
    "    # Only add results if theyre non zero\n",
    "    if result_count > 0:\n",
    "        list_of_tweet_dicts = results_json['data']\n",
    "\n",
    "        user = 'Nigel_Farage'\n",
    "        for tweet in list_of_tweet_dicts:\n",
    "            all_results.append([user, tweet['created_at'], tweet['id']])\n",
    "\n",
    "    \n",
    "\n",
    "\n",
    "\n",
    "\n",
    "print('finished')"
   ]
  },
  {
   "cell_type": "code",
   "execution_count": 136,
   "metadata": {},
   "outputs": [
    {
     "output_type": "execute_result",
     "data": {
      "text/plain": [
       "[['Nigel_Farage', '2019-10-31T19:37:00.000Z', '1189989669620080641'],\n",
       " ['Nigel_Farage', '2019-10-31T18:07:33.000Z', '1189967159176388611'],\n",
       " ['Nigel_Farage', '2019-10-31T16:58:43.000Z', '1189949832821137408'],\n",
       " ['Nigel_Farage', '2019-10-31T11:08:41.000Z', '1189861745009053697'],\n",
       " ['Nigel_Farage', '2019-10-29T20:44:06.000Z', '1189281779603124227'],\n",
       " ['Nigel_Farage', '2019-10-29T18:34:42.000Z', '1189249212447215616'],\n",
       " ['Nigel_Farage', '2019-10-29T18:06:55.000Z', '1189242221121495041'],\n",
       " ['Nigel_Farage', '2019-10-28T19:18:00.000Z', '1188897721085771777'],\n",
       " ['Nigel_Farage', '2019-10-27T18:58:28.000Z', '1188530419635052551'],\n",
       " ['Nigel_Farage', '2019-10-27T17:23:11.000Z', '1188506439742119939']]"
      ]
     },
     "metadata": {},
     "execution_count": 136
    }
   ],
   "source": [
    "all_results[:10]"
   ]
  },
  {
   "source": [
    "# Turn into function for a given user\n",
    "\n",
    "Got it to work here, try to functionise it"
   ],
   "cell_type": "markdown",
   "metadata": {}
  },
  {
   "cell_type": "code",
   "execution_count": 155,
   "metadata": {},
   "outputs": [],
   "source": [
    "\n",
    "# Get all results from one user\n",
    "\n",
    "# TODO: Documentation\n",
    "def users_tweets(user, start_time, end_time):\n",
    "# Given a user return a list of all of there tweets on october 2019\n",
    "# start_time and end_time are not yet implemented\n",
    "\n",
    "    num_runs = 0\n",
    "    all_results = []\n",
    "\n",
    "    result_count = 100  # initilise this as a non-zero number\n",
    "                        # will be filled with respnses from json later \n",
    "                        # can get a max of 100 records at a time\n",
    "                        # so if the results arnt 100 we ran out of things to get\n",
    "\n",
    "    while result_count == 100:\n",
    "\n",
    "        time.sleep(1)\n",
    "\n",
    "        if num_runs ==0:\n",
    "            # No next_token parameter\n",
    "            query_params = { #\"query\":\"from:CNNChile lang:es\",\n",
    "                    'query': f'(from:{user} -is:retweet) ',\n",
    "                    'tweet.fields': 'author_id,id,created_at',\n",
    "                    \"start_time\":\"2019-10-01T07:20:50.52Z\",\n",
    "                    \"end_time\":\"2019-11-01T07:20:50.52Z\",\n",
    "                    \"max_results\": \"100\"\n",
    "            }\n",
    "        else:\n",
    "            # with next_token\n",
    "            query_params = { #\"query\":\"from:CNNChile lang:es\",\n",
    "                    'query': f'(from:{user} -is:retweet) ',\n",
    "                    'tweet.fields': 'author_id,id,created_at',\n",
    "                    \"start_time\":\"2019-10-01T07:20:50.52Z\",\n",
    "                    \"end_time\":\"2019-11-01T07:20:50.52Z\",\n",
    "                    \"max_results\": \"100\",\n",
    "                    \"next_token\": results_json['meta']['next_token'] # get token from before: 'b26v89c19zqg8o3fnm91i40gu1gp7vh7j0r6ddrjyhvul'\n",
    "            }\n",
    "\n",
    "        headers = create_headers(bearer_token)\n",
    "        json_response = connect_to_endpoint(search_url, headers, query_params)\n",
    "        results = json.dumps(json_response, indent=4, sort_keys=True)\n",
    "\n",
    "        results_json = json.loads(results)\n",
    "\n",
    "        # append this pagnation to all results\n",
    "        #all_results.append(results_json)\n",
    "        result_count = results_json['meta']['result_count']\n",
    "        num_runs = num_runs + 1\n",
    "        #print(num_runs, result_count)\n",
    "\n",
    "        # Only add results if theyre non zero\n",
    "        if result_count > 0:\n",
    "            list_of_tweet_dicts = results_json['data']\n",
    "\n",
    "            for tweet in list_of_tweet_dicts:\n",
    "                all_results.append([user, tweet['created_at'], tweet['id']])\n",
    "\n",
    "    return all_results"
   ]
  },
  {
   "cell_type": "code",
   "execution_count": 156,
   "metadata": {},
   "outputs": [
    {
     "output_type": "stream",
     "name": "stdout",
     "text": [
      "200\n"
     ]
    },
    {
     "output_type": "execute_result",
     "data": {
      "text/plain": [
       "[['nigel_farage', '2019-10-31T19:37:00.000Z', '1189989669620080641'],\n",
       " ['nigel_farage', '2019-10-31T18:07:33.000Z', '1189967159176388611'],\n",
       " ['nigel_farage', '2019-10-31T16:58:43.000Z', '1189949832821137408'],\n",
       " ['nigel_farage', '2019-10-31T11:08:41.000Z', '1189861745009053697'],\n",
       " ['nigel_farage', '2019-10-29T20:44:06.000Z', '1189281779603124227'],\n",
       " ['nigel_farage', '2019-10-29T18:34:42.000Z', '1189249212447215616'],\n",
       " ['nigel_farage', '2019-10-29T18:06:55.000Z', '1189242221121495041'],\n",
       " ['nigel_farage', '2019-10-28T19:18:00.000Z', '1188897721085771777'],\n",
       " ['nigel_farage', '2019-10-27T18:58:28.000Z', '1188530419635052551'],\n",
       " ['nigel_farage', '2019-10-27T17:23:11.000Z', '1188506439742119939'],\n",
       " ['nigel_farage', '2019-10-27T10:22:53.000Z', '1188400668983414786'],\n",
       " ['nigel_farage', '2019-10-26T22:29:02.000Z', '1188221022601990145'],\n",
       " ['nigel_farage', '2019-10-26T14:46:07.000Z', '1188104526911496192'],\n",
       " ['nigel_farage', '2019-10-26T11:55:50.000Z', '1188061673992667137'],\n",
       " ['nigel_farage', '2019-10-25T08:30:10.000Z', '1187647526285008896'],\n",
       " ['nigel_farage', '2019-10-23T17:05:27.000Z', '1187052427268284416'],\n",
       " ['nigel_farage', '2019-10-23T09:14:55.000Z', '1186934014864691200'],\n",
       " ['nigel_farage', '2019-10-22T18:56:24.000Z', '1186717959173165057'],\n",
       " ['nigel_farage', '2019-10-22T17:04:51.000Z', '1186689886008545287'],\n",
       " ['nigel_farage', '2019-10-22T11:06:44.000Z', '1186599766362341376'],\n",
       " ['nigel_farage', '2019-10-22T07:35:55.000Z', '1186546710467764224'],\n",
       " ['nigel_farage', '2019-10-21T16:06:25.000Z', '1186312793819090945'],\n",
       " ['nigel_farage', '2019-10-21T15:51:17.000Z', '1186308984266997766'],\n",
       " ['nigel_farage', '2019-10-20T08:25:49.000Z', '1185834491866243074'],\n",
       " ['nigel_farage', '2019-10-19T16:54:06.000Z', '1185600020558548992'],\n",
       " ['nigel_farage', '2019-10-19T13:15:43.000Z', '1185545061028761601'],\n",
       " ['nigel_farage', '2019-10-18T19:07:16.000Z', '1185271144007569408'],\n",
       " ['nigel_farage', '2019-10-18T18:40:20.000Z', '1185264366809161728'],\n",
       " ['nigel_farage', '2019-10-18T18:26:43.000Z', '1185260938947108864'],\n",
       " ['nigel_farage', '2019-10-18T18:20:18.000Z', '1185259325234860032'],\n",
       " ['nigel_farage', '2019-10-18T17:18:05.000Z', '1185243665532370946'],\n",
       " ['nigel_farage', '2019-10-17T14:14:05.000Z', '1184834973662175234'],\n",
       " ['nigel_farage', '2019-10-17T11:16:36.000Z', '1184790307164037121'],\n",
       " ['nigel_farage', '2019-10-17T07:43:43.000Z', '1184736733696577536'],\n",
       " ['nigel_farage', '2019-10-16T16:34:18.000Z', '1184507872094363648'],\n",
       " ['nigel_farage', '2019-10-15T19:26:50.000Z', '1184188904099979265'],\n",
       " ['nigel_farage', '2019-10-15T17:31:59.000Z', '1184159999779586050'],\n",
       " ['nigel_farage', '2019-10-15T15:47:04.000Z', '1184133597298593799'],\n",
       " ['nigel_farage', '2019-10-14T19:18:00.000Z', '1183824294973001732'],\n",
       " ['nigel_farage', '2019-10-14T08:24:16.000Z', '1183659775961288704'],\n",
       " ['nigel_farage', '2019-10-13T17:52:11.000Z', '1183440307695820801'],\n",
       " ['nigel_farage', '2019-10-13T16:16:01.000Z', '1183416107878834179'],\n",
       " ['nigel_farage', '2019-10-11T15:45:16.000Z', '1182683593073713154'],\n",
       " ['nigel_farage', '2019-10-11T07:12:28.000Z', '1182554541591552000'],\n",
       " ['nigel_farage', '2019-10-10T20:51:47.000Z', '1182398341738631184'],\n",
       " ['nigel_farage', '2019-10-10T18:52:22.000Z', '1182368292113125376'],\n",
       " ['nigel_farage', '2019-10-10T17:03:01.000Z', '1182340773938913283'],\n",
       " ['nigel_farage', '2019-10-10T08:21:51.000Z', '1182209614336659456'],\n",
       " ['nigel_farage', '2019-10-09T20:41:10.000Z', '1182033283342839814'],\n",
       " ['nigel_farage', '2019-10-09T19:43:00.000Z', '1182018643909054464'],\n",
       " ['nigel_farage', '2019-10-09T17:06:38.000Z', '1181979293607514112'],\n",
       " ['nigel_farage', '2019-10-09T15:48:45.000Z', '1181959693012541441'],\n",
       " ['nigel_farage', '2019-10-09T14:26:35.000Z', '1181939018273038338'],\n",
       " ['nigel_farage', '2019-10-09T14:01:40.000Z', '1181932746555432962'],\n",
       " ['nigel_farage', '2019-10-09T10:26:57.000Z', '1181878709659324417'],\n",
       " ['nigel_farage', '2019-10-08T17:10:40.000Z', '1181617921291902977'],\n",
       " ['nigel_farage', '2019-10-08T14:59:12.000Z', '1181584834600275968'],\n",
       " ['nigel_farage', '2019-10-08T14:20:00.000Z', '1181574970746396673'],\n",
       " ['nigel_farage', '2019-10-08T13:41:27.000Z', '1181565270520975361'],\n",
       " ['nigel_farage', '2019-10-08T12:15:00.000Z', '1181543513734795265'],\n",
       " ['nigel_farage', '2019-10-08T11:30:00.000Z', '1181532188535328769'],\n",
       " ['nigel_farage', '2019-10-08T11:08:32.000Z', '1181526787068764161'],\n",
       " ['nigel_farage', '2019-10-08T10:51:04.000Z', '1181522391379394560'],\n",
       " ['nigel_farage', '2019-10-08T10:23:23.000Z', '1181515424267227136'],\n",
       " ['nigel_farage', '2019-10-08T10:03:58.000Z', '1181510537554857984'],\n",
       " ['nigel_farage', '2019-10-08T08:50:18.000Z', '1181491998659940352'],\n",
       " ['nigel_farage', '2019-10-07T19:20:53.000Z', '1181288302730780672'],\n",
       " ['nigel_farage', '2019-10-07T18:21:28.000Z', '1181273350687121411'],\n",
       " ['nigel_farage', '2019-10-07T17:05:35.000Z', '1181254256160104451'],\n",
       " ['nigel_farage', '2019-10-06T13:41:48.000Z', '1180840583516045312'],\n",
       " ['nigel_farage', '2019-10-06T13:10:03.000Z', '1180832592272199680'],\n",
       " ['nigel_farage', '2019-10-04T20:29:22.000Z', '1180218375034884096'],\n",
       " ['nigel_farage', '2019-10-04T18:39:20.000Z', '1180190682012622849'],\n",
       " ['nigel_farage', '2019-10-04T13:09:34.000Z', '1180107694327390213'],\n",
       " ['nigel_farage', '2019-10-03T14:57:56.000Z', '1179772577851547648'],\n",
       " ['nigel_farage', '2019-10-02T22:34:41.000Z', '1179525134245388288'],\n",
       " ['nigel_farage', '2019-10-02T18:40:27.000Z', '1179466190651084802'],\n",
       " ['nigel_farage', '2019-10-02T17:06:18.000Z', '1179442496985817090'],\n",
       " ['nigel_farage', '2019-10-02T15:24:46.000Z', '1179416942815465473'],\n",
       " ['nigel_farage', '2019-10-02T13:42:03.000Z', '1179391092057399297'],\n",
       " ['nigel_farage', '2019-10-02T11:04:54.000Z', '1179351544300494850'],\n",
       " ['nigel_farage', '2019-10-02T10:43:53.000Z', '1179346255526404096'],\n",
       " ['nigel_farage', '2019-10-01T17:07:04.000Z', '1179080301164793859']]"
      ]
     },
     "metadata": {},
     "execution_count": 156
    }
   ],
   "source": [
    "users_tweets('nigel_farage',0,0)"
   ]
  },
  {
   "cell_type": "code",
   "execution_count": 142,
   "metadata": {},
   "outputs": [
    {
     "output_type": "stream",
     "name": "stdout",
     "text": [
      "200\n",
      "1 100\n",
      "200\n",
      "2 100\n",
      "200\n",
      "3 100\n",
      "200\n",
      "4 100\n",
      "200\n",
      "5 100\n",
      "200\n",
      "6 100\n",
      "200\n",
      "7 100\n",
      "200\n",
      "8 100\n",
      "200\n",
      "9 100\n",
      "200\n",
      "10 100\n",
      "200\n",
      "11 100\n",
      "200\n",
      "12 100\n",
      "200\n",
      "13 100\n",
      "200\n",
      "14 100\n",
      "200\n",
      "15 100\n",
      "200\n",
      "16 100\n",
      "200\n",
      "17 100\n",
      "200\n",
      "18 100\n",
      "200\n",
      "19 100\n",
      "200\n",
      "20 100\n",
      "200\n",
      "21 100\n",
      "200\n",
      "22 29\n",
      "finished\n"
     ]
    }
   ],
   "source": [
    "CNNChile_tweets = users_tweets('CNNChile',0,0)"
   ]
  },
  {
   "cell_type": "code",
   "execution_count": 143,
   "metadata": {},
   "outputs": [
    {
     "output_type": "execute_result",
     "data": {
      "text/plain": [
       "2129"
      ]
     },
     "metadata": {},
     "execution_count": 143
    }
   ],
   "source": [
    "len(CNNChile_tweets)"
   ]
  },
  {
   "cell_type": "code",
   "execution_count": 153,
   "metadata": {},
   "outputs": [
    {
     "output_type": "execute_result",
     "data": {
      "text/plain": [
       "[['CNNChile', '2019-11-01T01:51:01.000Z', '1190083790993051649'],\n",
       " ['CNNChile', '2019-10-31T23:38:54.000Z', '1190050543005241344'],\n",
       " ['CNNChile', '2019-10-31T22:38:55.000Z', '1190035450943168512'],\n",
       " ['CNNChile', '2019-10-31T21:39:43.000Z', '1190020552402059267'],\n",
       " ['CNNChile', '2019-10-31T21:13:35.000Z', '1190013975624335368']]"
      ]
     },
     "metadata": {},
     "execution_count": 153
    }
   ],
   "source": [
    "CNNChile_tweets[:5]"
   ]
  },
  {
   "cell_type": "code",
   "execution_count": 151,
   "metadata": {},
   "outputs": [
    {
     "output_type": "execute_result",
     "data": {
      "text/plain": [
       "       User              TweetCreated              TweetId\n",
       "0  CNNChile  2019-11-01T01:51:01.000Z  1190083790993051649\n",
       "1  CNNChile  2019-10-31T23:38:54.000Z  1190050543005241344\n",
       "2  CNNChile  2019-10-31T22:38:55.000Z  1190035450943168512\n",
       "3  CNNChile  2019-10-31T21:39:43.000Z  1190020552402059267\n",
       "4  CNNChile  2019-10-31T21:13:35.000Z  1190013975624335368"
      ],
      "text/html": "<div>\n<style scoped>\n    .dataframe tbody tr th:only-of-type {\n        vertical-align: middle;\n    }\n\n    .dataframe tbody tr th {\n        vertical-align: top;\n    }\n\n    .dataframe thead th {\n        text-align: right;\n    }\n</style>\n<table border=\"1\" class=\"dataframe\">\n  <thead>\n    <tr style=\"text-align: right;\">\n      <th></th>\n      <th>User</th>\n      <th>TweetCreated</th>\n      <th>TweetId</th>\n    </tr>\n  </thead>\n  <tbody>\n    <tr>\n      <th>0</th>\n      <td>CNNChile</td>\n      <td>2019-11-01T01:51:01.000Z</td>\n      <td>1190083790993051649</td>\n    </tr>\n    <tr>\n      <th>1</th>\n      <td>CNNChile</td>\n      <td>2019-10-31T23:38:54.000Z</td>\n      <td>1190050543005241344</td>\n    </tr>\n    <tr>\n      <th>2</th>\n      <td>CNNChile</td>\n      <td>2019-10-31T22:38:55.000Z</td>\n      <td>1190035450943168512</td>\n    </tr>\n    <tr>\n      <th>3</th>\n      <td>CNNChile</td>\n      <td>2019-10-31T21:39:43.000Z</td>\n      <td>1190020552402059267</td>\n    </tr>\n    <tr>\n      <th>4</th>\n      <td>CNNChile</td>\n      <td>2019-10-31T21:13:35.000Z</td>\n      <td>1190013975624335368</td>\n    </tr>\n  </tbody>\n</table>\n</div>"
     },
     "metadata": {},
     "execution_count": 151
    }
   ],
   "source": [
    "# Convert them to pandas\r\n",
    "df_cnn = pd.DataFrame.from_records(CNNChile_tweets,columns=['User', 'TweetCreated', 'TweetId'])\r\n",
    "df_cnn.head()"
   ]
  },
  {
   "cell_type": "code",
   "execution_count": 149,
   "metadata": {},
   "outputs": [],
   "source": [
    "df_cnn.to_csv('CNNChile_tweets_Oct.csv') # Save"
   ]
  },
  {
   "cell_type": "code",
   "execution_count": null,
   "metadata": {},
   "outputs": [],
   "source": []
  },
  {
   "cell_type": "code",
   "execution_count": null,
   "metadata": {},
   "outputs": [],
   "source": [
    "# TODO: create funtion to go through every news source we have"
   ]
  },
  {
   "cell_type": "code",
   "execution_count": 159,
   "metadata": {},
   "outputs": [],
   "source": [
    "\n",
    "# Function to get all tweet ID's from a given date range for a list of users\n",
    "\n",
    "def get_list_users_tweets(users, start_date, end_date):\n",
    "    '''\n",
    "    users - a list of twitter user\n",
    "    first_id - start date + time we want #TODO: Implement\n",
    "    last_id - end date + time we want   #TODO: Implement\n",
    "    '''\n",
    "\n",
    "    res = []\n",
    "\n",
    "    for user in users:\n",
    "        \n",
    "        print('-'*30)\n",
    "        print(f\"User: {user} Number: {users.index(user)+1} of {len(users)}\")\n",
    "        print('-'*30)\n",
    "        print()\n",
    "        # Append results of function to results\n",
    "        # Extend will insure everying is in the same list\n",
    "        # Append would create a list of lists\n",
    "        res.extend( users_tweets(user, start_date, end_date ) )\n",
    "\n",
    "    #Convert results from list of list to DataFrame\n",
    "    tweets_df = pd.DataFrame.from_records(res, columns=['User', 'TweetCreated', 'TweetId'])\n",
    "\n",
    "    return tweets_df\n"
   ]
  },
  {
   "cell_type": "code",
   "execution_count": null,
   "metadata": {},
   "outputs": [],
   "source": []
  },
  {
   "source": [
    "# Chilian News sources\n",
    "\n",
    "### So far these are the sources that have been identified as potentially interesting:\n",
    "\n",
    "- El Mercurio (@ElMercurio_cl) / Twitter\n",
    "- La Tercera (@latercera) / Twitter\n",
    "- laSegunda (@La_Segunda) / Twitter\n",
    "- Las Últimas Noticias (@lun) / Twitter\n",
    "- La Cuarta (@lacuarta) / Twitter\n",
    "- Meganoticias (@meganoticiascl) / Twitter\n",
    "- Canal 13 (@canal13) / Twitter\n",
    "- TVN (@TVN) / Twitter\n",
    "- 24 Horas (@24HorasTVN) / Twitter\n",
    "- La Nación Chile (@nacioncl) / Twitter\n",
    "- Diario Financiero (@DFinanciero) / Twitter\n",
    "- Chilevisión (@chilevision) / Twitter\n",
    "- UCV Radio 103.5 FM (@ucvradio) / Twitter\n",
    "- LaRed (@LaRedTV) / Twitter\n",
    "- Cooperativa (@Cooperativa) / Twitter\n",
    "- Radio Pudahuel (@RadioPudahuel) / Twitter\n",
    "- BioBioChile (@biobio) / Twitter\n",
    "- El Conquistador 91.3 (@FMConquistador) / Twitter\n",
    "- EL INFORMADORCHILE🇨🇱 (@INFORMADORCHILE) / Twitter\n",
    "- CNN Chile (@CNNChile) / Twitter\n",
    "- CHV Noticias (@CHVNoticias) / Twitter\n",
    "- El Mostrador (@elmostrador) / Twitter\n",
    "- Publimetro (@PublimetroChile) / Twitter\n",
    "- El Desconcierto (@eldesconcierto) / Twitter\n",
    "- El Dínamo (@el_dinamo) / Twitter\n",
    "- El Ciudadano (@El_Ciudadano) / Twitter\n",
    "- El Líbero (@elliberocl) / Twitter\n",
    "- (4) Diario El Observador (@eo_enlinea) / Twitter\n",
    "\n",
    "\n",
    "\n",
    "\n",
    "In terms of the time period, if you could look between October 18, 2019 and November 18, 2019, that would be some cool gravy.\n",
    "\n",
    "\n"
   ],
   "cell_type": "markdown",
   "metadata": {}
  },
  {
   "cell_type": "code",
   "execution_count": 161,
   "metadata": {},
   "outputs": [
    {
     "output_type": "stream",
     "name": "stdout",
     "text": [
      "------------------------------\n",
      "User: ElMercurio_cl Number: 1 of 5\n",
      "------------------------------\n",
      "\n",
      "200\n",
      "200\n",
      "200\n",
      "200\n",
      "200\n",
      "200\n",
      "200\n",
      "200\n",
      "200\n",
      "200\n",
      "200\n",
      "200\n",
      "200\n",
      "200\n",
      "200\n",
      "200\n",
      "200\n",
      "------------------------------\n",
      "User: latercera Number: 2 of 5\n",
      "------------------------------\n",
      "\n",
      "200\n",
      "200\n",
      "200\n",
      "200\n",
      "200\n",
      "200\n",
      "200\n",
      "200\n",
      "200\n",
      "200\n",
      "200\n",
      "200\n",
      "200\n",
      "200\n",
      "200\n",
      "200\n",
      "200\n",
      "200\n",
      "200\n",
      "200\n",
      "200\n",
      "200\n",
      "200\n",
      "200\n",
      "200\n",
      "200\n",
      "200\n",
      "200\n",
      "200\n",
      "200\n",
      "200\n",
      "200\n",
      "200\n",
      "200\n",
      "200\n",
      "200\n",
      "200\n",
      "200\n",
      "200\n",
      "200\n",
      "200\n",
      "200\n",
      "200\n",
      "200\n",
      "200\n",
      "200\n",
      "200\n",
      "200\n",
      "200\n",
      "200\n",
      "200\n",
      "200\n",
      "200\n",
      "200\n",
      "200\n",
      "200\n",
      "200\n",
      "200\n",
      "------------------------------\n",
      "User: La_Segunda Number: 3 of 5\n",
      "------------------------------\n",
      "\n",
      "200\n",
      "------------------------------\n",
      "User: lun Number: 4 of 5\n",
      "------------------------------\n",
      "\n",
      "200\n",
      "200\n",
      "200\n",
      "200\n",
      "200\n",
      "200\n",
      "------------------------------\n",
      "User: lacuarta Number: 5 of 5\n",
      "------------------------------\n",
      "\n",
      "200\n",
      "200\n",
      "200\n",
      "200\n",
      "200\n",
      "200\n",
      "200\n",
      "200\n",
      "200\n",
      "200\n",
      "200\n",
      "200\n",
      "200\n",
      "200\n",
      "200\n",
      "200\n",
      "200\n"
     ]
    }
   ],
   "source": [
    "chile_news_users = ['ElMercurio_cl',\n",
    "                    'latercera',\n",
    "                    'La_Segunda',\n",
    "                    'lun',\n",
    "                    'lacuarta',\n",
    "                    'meganoticiascl',\n",
    "                    'canal13',\n",
    "                    'TVN',\n",
    "                    '24HorasTVN',\n",
    "                    'nacioncl',\n",
    "                    'DFinanciero',\n",
    "                    'chilevision',\n",
    "                    'ucvradio',\n",
    "                    'LaRedTV',\n",
    "                    'Cooperativa',\n",
    "                    'RadioPudahuel',\n",
    "                    'biobio',\n",
    "                    'FMConquistador',\n",
    "                    'INFORMADORCHILE',\n",
    "                    'CNNChile',\n",
    "                    'CHVNoticias',\n",
    "                    'elmostrador',\n",
    "                    'PublimetroChile',\n",
    "                    'eldesconcierto',\n",
    "                    'el_dinamo',\n",
    "                    'El_Ciudadano',\n",
    "                    'elliberocl',\n",
    "                    'eo_enlinea']\n",
    "\n",
    "# TODO: turn into actual dates\n",
    "start_date = 1185187691857678337  # 2019-10-17\n",
    "end_date = 1195811463706873857    # 2019-11-16\n",
    "now_id = 1395883494652383232  # 2021-05-21\n",
    "\n",
    "# Try getting just the dates we want in 2019\n",
    "results = get_list_users_tweets(chile_news_users[:5], start_date, end_date)\n"
   ]
  },
  {
   "cell_type": "code",
   "execution_count": 162,
   "metadata": {},
   "outputs": [
    {
     "output_type": "execute_result",
     "data": {
      "text/plain": [
       "               User              TweetCreated              TweetId\n",
       "0     ElMercurio_cl  2019-11-01T02:50:00.000Z  1190098635121283072\n",
       "1     ElMercurio_cl  2019-11-01T02:40:00.000Z  1190096118329135104\n",
       "2     ElMercurio_cl  2019-11-01T02:30:00.000Z  1190093602464129024\n",
       "3     ElMercurio_cl  2019-11-01T02:20:00.000Z  1190091085407825921\n",
       "4     ElMercurio_cl  2019-11-01T02:10:00.000Z  1190088568707923969\n",
       "...             ...                       ...                  ...\n",
       "9598       lacuarta  2019-10-01T11:00:00.000Z  1178987924056150016\n",
       "9599       lacuarta  2019-10-01T10:45:00.000Z  1178984148930826240\n",
       "9600       lacuarta  2019-10-01T10:41:29.000Z  1178983264146657283\n",
       "9601       lacuarta  2019-10-01T10:30:00.000Z  1178980373931479040\n",
       "9602       lacuarta  2019-10-01T10:19:15.000Z  1178977670450876416\n",
       "\n",
       "[9603 rows x 3 columns]"
      ],
      "text/html": "<div>\n<style scoped>\n    .dataframe tbody tr th:only-of-type {\n        vertical-align: middle;\n    }\n\n    .dataframe tbody tr th {\n        vertical-align: top;\n    }\n\n    .dataframe thead th {\n        text-align: right;\n    }\n</style>\n<table border=\"1\" class=\"dataframe\">\n  <thead>\n    <tr style=\"text-align: right;\">\n      <th></th>\n      <th>User</th>\n      <th>TweetCreated</th>\n      <th>TweetId</th>\n    </tr>\n  </thead>\n  <tbody>\n    <tr>\n      <th>0</th>\n      <td>ElMercurio_cl</td>\n      <td>2019-11-01T02:50:00.000Z</td>\n      <td>1190098635121283072</td>\n    </tr>\n    <tr>\n      <th>1</th>\n      <td>ElMercurio_cl</td>\n      <td>2019-11-01T02:40:00.000Z</td>\n      <td>1190096118329135104</td>\n    </tr>\n    <tr>\n      <th>2</th>\n      <td>ElMercurio_cl</td>\n      <td>2019-11-01T02:30:00.000Z</td>\n      <td>1190093602464129024</td>\n    </tr>\n    <tr>\n      <th>3</th>\n      <td>ElMercurio_cl</td>\n      <td>2019-11-01T02:20:00.000Z</td>\n      <td>1190091085407825921</td>\n    </tr>\n    <tr>\n      <th>4</th>\n      <td>ElMercurio_cl</td>\n      <td>2019-11-01T02:10:00.000Z</td>\n      <td>1190088568707923969</td>\n    </tr>\n    <tr>\n      <th>...</th>\n      <td>...</td>\n      <td>...</td>\n      <td>...</td>\n    </tr>\n    <tr>\n      <th>9598</th>\n      <td>lacuarta</td>\n      <td>2019-10-01T11:00:00.000Z</td>\n      <td>1178987924056150016</td>\n    </tr>\n    <tr>\n      <th>9599</th>\n      <td>lacuarta</td>\n      <td>2019-10-01T10:45:00.000Z</td>\n      <td>1178984148930826240</td>\n    </tr>\n    <tr>\n      <th>9600</th>\n      <td>lacuarta</td>\n      <td>2019-10-01T10:41:29.000Z</td>\n      <td>1178983264146657283</td>\n    </tr>\n    <tr>\n      <th>9601</th>\n      <td>lacuarta</td>\n      <td>2019-10-01T10:30:00.000Z</td>\n      <td>1178980373931479040</td>\n    </tr>\n    <tr>\n      <th>9602</th>\n      <td>lacuarta</td>\n      <td>2019-10-01T10:19:15.000Z</td>\n      <td>1178977670450876416</td>\n    </tr>\n  </tbody>\n</table>\n<p>9603 rows × 3 columns</p>\n</div>"
     },
     "metadata": {},
     "execution_count": 162
    }
   ],
   "source": [
    "results"
   ]
  },
  {
   "cell_type": "code",
   "execution_count": 163,
   "metadata": {},
   "outputs": [],
   "source": [
    "results.to_csv('first_5_news_sources.csv')"
   ]
  },
  {
   "cell_type": "code",
   "execution_count": null,
   "metadata": {},
   "outputs": [],
   "source": []
  },
  {
   "cell_type": "code",
   "execution_count": null,
   "metadata": {},
   "outputs": [],
   "source": []
  },
  {
   "cell_type": "code",
   "execution_count": null,
   "metadata": {},
   "outputs": [],
   "source": [
    "results"
   ]
  },
  {
   "cell_type": "code",
   "execution_count": null,
   "metadata": {},
   "outputs": [],
   "source": []
  },
  {
   "cell_type": "code",
   "execution_count": null,
   "metadata": {},
   "outputs": [],
   "source": []
  }
 ]
}