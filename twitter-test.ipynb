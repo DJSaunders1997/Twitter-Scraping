{
 "metadata": {
  "language_info": {
   "codemirror_mode": {
    "name": "ipython",
    "version": 3
   },
   "file_extension": ".py",
   "mimetype": "text/x-python",
   "name": "python",
   "nbconvert_exporter": "python",
   "pygments_lexer": "ipython3",
   "version": "3.9.0"
  },
  "orig_nbformat": 2,
  "kernelspec": {
   "name": "python390jvsc74a57bd063fd5069d213b44bf678585dea6b12cceca9941eaf7f819626cde1f2670de90d",
   "display_name": "Python 3.9.0 64-bit"
  }
 },
 "nbformat": 4,
 "nbformat_minor": 2,
 "cells": [
  {
   "cell_type": "code",
   "execution_count": 2,
   "metadata": {},
   "outputs": [],
   "source": [
    "# https://docs.tweepy.org/en/v3.5.0/getting_started.html"
   ]
  },
  {
   "cell_type": "code",
   "execution_count": 2,
   "metadata": {},
   "outputs": [],
   "source": [
    "import setup_api\n"
   ]
  },
  {
   "cell_type": "code",
   "execution_count": 60,
   "metadata": {},
   "outputs": [],
   "source": [
    "import pandas as pd"
   ]
  },
  {
   "cell_type": "code",
   "execution_count": 5,
   "metadata": {},
   "outputs": [
    {
     "output_type": "stream",
     "name": "stdout",
     "text": [
      "RT @LorenDempster: @daydream113017 @encyclopath @the_usal @TakeThatDarwin @jnatael @RJefress I’ll never understand how any rational person…\n14 #DataScience projects to improve your skills - KDnuggets #KDN https://t.co/aG3xWkgkHW\nWhat you need to know about the tardigrade cannon https://t.co/gQ2hpaRTqp https://t.co/eBUNo5KRdv\n.@rdisipio dives into dynamic programming, a general method to solve optimization problems by breaking them down in… https://t.co/1pWeJE1s8e\nThink of all the great tragedies which could’ve been prevented had humanity’s greatest dispute resolution tool — th… https://t.co/2Hr1c2nMBE\nRT @NoContextFieri: https://t.co/acS8ydSXLF\nSeeing Eye Dog Really Blows Off Some Steam In Dog Park https://t.co/lk3m6u0wT9 https://t.co/Wa6ld9DTjF\nDon’t Use Dropout in Convolutional Networks - KDnuggets #KDN https://t.co/vMv6m82Tjw\nAnti-Asian Hate Crimes Bill Signed Into Law #WhatDoYouThink? https://t.co/uiclkexena https://t.co/Sx4HQoud8u\nHow the burning heart of a jet engine functions without melting https://t.co/SksOts2kGq https://t.co/aioADVykTf\nIf a female lyrebird is rejecting a male's advances, the male will sometimes mimic the sound made when a predator i… https://t.co/WESTUUcvoy\nRT @robverger: I'm really excited about this truck. This is a great overview by @RobDrivesCars for @PopSci ⚡️\n\nhttps://t.co/jUwV6Adl9j\nThe best hot takes are the ones that contribute nothing and only poison the well of discourse.\nRT @novapbs: Say hello to the largest-ever flying vertebrates. via @PopSci  \nhttps://t.co/73INMIyO7Z\nHere's the front page of Saturday's Western Mail\nhttps://t.co/igu4woTCns\n#TomorrowsPapersToday https://t.co/DMyAzQKjgt\nHere's the front page of Saturday's South Wales Echo\nhttps://t.co/4H45DjFhxf\n#TomorrowsPapersToday https://t.co/kUFnTSM0CH\nBrilliant New Animated Comedy Gives Viewers Clinical Depression https://t.co/omiMKuViKK https://t.co/mwjvlNopyE\nHere's the back page of Saturday's South Wales Echo\nhttps://t.co/4H45DjFhxf\n#TomorrowsPapersToday https://t.co/C01r0bsVhl\nHere's the front page of Saturday's South Wales Evening Post\nhttps://t.co/pGTCpGlKm0\n#TomorrowsPapersToday https://t.co/abaz39z1Yu\nHere's the back page of Saturday's South Wales Evening Post\nhttps://t.co/pGTCpGlKm0\n#TomorrowsPapersToday https://t.co/3Wk3Iv5Pet\n"
     ]
    }
   ],
   "source": [
    "import tweepy\n",
    "\n",
    "\n",
    "api = tweepy.API(auth)\n",
    "\n",
    "public_tweets = api.home_timeline()\n",
    "for tweet in public_tweets:\n",
    "    print(tweet.text)"
   ]
  },
  {
   "cell_type": "code",
   "execution_count": 8,
   "metadata": {},
   "outputs": [
    {
     "output_type": "stream",
     "name": "stdout",
     "text": [
      "RugbyScribbler\n",
      "2573\n",
      "Coach_TimHaynes\n",
      "rugby_ap\n",
      "WillRobrtsRugby\n",
      "danleo82\n",
      "JReeves98\n",
      "portaldorugby\n",
      "NandB_RFC\n",
      "NailseaBackwell\n",
      "Rufranya\n",
      "UlsterNause\n",
      "NandBTouchRugby\n",
      "FairPlaypt\n",
      "francisaac87\n",
      "NZRugbyWorld\n",
      "pinopuca\n",
      "GavinMairs\n",
      "samphillips06\n",
      "ChristinaMahonx\n",
      "ProgressiveRug\n",
      "TheRugbyPaper\n"
     ]
    }
   ],
   "source": [
    "# Get the User object for twitter...\n",
    "user = api.get_user('RugbyScribbler')\n",
    "\n",
    "# Run model for it\n",
    "print(user.screen_name)\n",
    "print(user.followers_count)\n",
    "for friend in user.friends():\n",
    "   print(friend.screen_name)"
   ]
  },
  {
   "cell_type": "code",
   "execution_count": null,
   "metadata": {},
   "outputs": [],
   "source": [
    "# https://stackoverflow.com/questions/10804507/how-to-get-tweet-ids-since-id-max-id-in-tweepy-python"
   ]
  },
  {
   "cell_type": "code",
   "execution_count": 10,
   "metadata": {},
   "outputs": [
    {
     "output_type": "stream",
     "name": "stdout",
     "text": [
      "1395883494652383232\n1384643201844326403\n1322074366788644864\n1315698806881767424\n"
     ]
    }
   ],
   "source": [
    "for status in api.user_timeline():\n",
    "    print(status.id)"
   ]
  },
  {
   "cell_type": "code",
   "execution_count": 13,
   "metadata": {},
   "outputs": [],
   "source": [
    "userID = 'RugbyScribbler'"
   ]
  },
  {
   "cell_type": "code",
   "execution_count": 15,
   "metadata": {},
   "outputs": [
    {
     "output_type": "execute_result",
     "data": {
      "text/plain": [
       "les.wordpress.com', 'display_url': 'rugbyscribbles.wordpress.com', 'indices': [0, 23]}]}, 'description': {'urls': []}}, 'protected': False, 'followers_count': 2574, 'friends_count': 997, 'listed_count': 35, 'created_at': 'Fri Jan 08 11:59:14 +0000 2016', 'favourites_count': 44103, 'utc_offset': None, 'time_zone': None, 'geo_enabled': True, 'verified': False, 'statuses_count': 21919, 'lang': None, 'contributors_enabled': False, 'is_translator': False, 'is_translation_enabled': False, 'profile_background_color': 'F5F8FA', 'profile_background_image_url': None, 'profile_background_image_url_https': None, 'profile_background_tile': False, 'profile_image_url': 'http://pbs.twimg.com/profile_images/1327634942197641218/akvMdAEm_normal.jpg', 'profile_image_url_https': 'https://pbs.twimg.com/profile_images/1327634942197641218/akvMdAEm_normal.jpg', 'profile_banner_url': 'https://pbs.twimg.com/profile_banners/4744156397/1605367812', 'profile_link_color': '1DA1F2', 'profile_sidebar_border_color': 'C0DEED', 'profile_sidebar_fill_color': 'DDEEF6', 'profile_text_color': '333333', 'profile_use_background_image': True, 'has_extended_profile': True, 'default_profile': True, 'default_profile_image': False, 'following': True, 'follow_request_sent': False, 'notifications': False, 'translator_type': 'none', 'withheld_in_countries': []}, 'geo': None, 'coordinates': None, 'place': None, 'contributors': None, 'is_quote_status': False, 'retweet_count': 0, 'favorite_count': 0, 'favorited': False, 'retweeted': False, 'lang': 'en'}, created_at=datetime.datetime(2021, 4, 24, 17, 30), id=1386009544908754945, id_str='1386009544908754945', full_text=\"How are we gonna blame the corrupt ref from the home side when they're all from the same country 🤷\\u200d♂️ #OSPvCAR #RainbowCup\", truncated=False, display_text_range=[0, 122], entities={'hashtags': [{'text': 'OSPvCAR', 'indices': [102, 110]}, {'text': 'RainbowCup', 'indices': [111, 122]}], 'symbols': [], 'user_mentions': [], 'urls': []}, source='Twitter for Android', source_url='http://twitter.com/download/android', in_reply_to_status_id=None, in_reply_to_status_id_str=None, in_reply_to_user_id=None, in_reply_to_user_id_str=None, in_reply_to_screen_name=None, author=User(_api=<tweepy.api.API object at 0x000002193FD3CF70>, _json={'id': 4744156397, 'id_str': '4744156397', 'name': 'The Rugby Scribbler 🏉', 'screen_name': 'RugbyScribbler', 'location': 'Bristol/ Swansea', 'description': 'Everyone ignores my rugby rants in the pub, so I put em online | Words with @PRO14Official @Sportsbeat @UltimateRugby @RugbyWorldmag et al | #RobCast host', 'url': 'https://t.co/vBmA6996a0', 'entities': {'url': {'urls': [{'url': 'https://t.co/vBmA6996a0', 'expanded_url': 'http://rugbyscribbles.wordpress.com', 'display_url': 'rugbyscribbles.wordpress.com', 'indices': [0, 23]}]}, 'description': {'urls': []}}, 'protected': False, 'followers_count': 2574, 'friends_count': 997, 'listed_count': 35, 'created_at': 'Fri Jan 08 11:59:14 +0000 2016', 'favourites_count': 44103, 'utc_offset': None, 'time_zone': None, 'geo_enabled': True, 'verified': False, 'statuses_count': 21919, 'lang': None, 'contributors_enabled': False, 'is_translator': False, 'is_translation_enabled': False, 'profile_background_color': 'F5F8FA', 'profile_background_image_url': None, 'profile_background_image_url_https': None, 'profile_background_tile': False, 'profile_image_url': 'http://pbs.twimg.com/profile_images/1327634942197641218/akvMdAEm_normal.jpg', 'profile_image_url_https': 'https://pbs.twimg.com/profile_images/1327634942197641218/akvMdAEm_normal.jpg', 'profile_banner_url': 'https://pbs.twimg.com/profile_banners/4744156397/1605367812', 'profile_link_color': '1DA1F2', 'profile_sidebar_border_color': 'C0DEED', 'profile_sidebar_fill_color': 'DDEEF6', 'profile_text_color': '333333', 'profile_use_background_image': True, 'has_extended_profile': True, 'default_profile': True, 'default_profile_image': False, 'following': True, 'follow_request_sent': False, 'notifications': False, 'translator_type': 'none', 'withheld_in_countries': []}, id=4744156397, id_str='4744156397', name='The Rugby Scribbler 🏉', screen_name='RugbyScribbler', location='Bristol/ Swansea', description='Everyone ignores my rugby rants in the pub, so I put em online | Words with @PRO14Official @Sportsbeat @UltimateRugby @RugbyWorldmag et al | #RobCast host', url='https://t.co/vBmA6996a0', entities={'url': {'urls': [{'url': 'https://t.co/vBmA6996a0', 'expanded_url': 'http://rugbyscribbles.wordpress.com', 'display_url': 'rugbyscribbles.wordpress.com', 'indices': [0, 23]}]}, 'description': {'urls': []}}, protected=False, followers_count=2574, friends_count=997, listed_count=35, created_at=datetime.datetime(2016, 1, 8, 11, 59, 14), favourites_count=44103, utc_offset=None, time_zone=None, geo_enabled=True, verified=False, statuses_count=21919, lang=None, contributors_enabled=False, is_translator=False, is_translation_enabled=False, profile_background_color='F5F8FA', profile_background_image_url=None, profile_background_image_url_https=None, profile_background_tile=False, profile_image_url='http://pbs.twimg.com/profile_images/1327634942197641218/akvMdAEm_normal.jpg', profile_image_url_https='https://pbs.twimg.com/profile_images/1327634942197641218/akvMdAEm_normal.jpg', profile_banner_url='https://pbs.twimg.com/profile_banners/4744156397/1605367812', profile_link_color='1DA1F2', profile_sidebar_border_color='C0DEED', profile_sidebar_fill_color='DDEEF6', profile_text_color='333333', profile_use_background_image=True, has_extended_profile=True, default_profile=True, default_profile_image=False, following=True, follow_request_sent=False, notifications=False, translator_type='none', withheld_in_countries=[]), user=User(_api=<tweepy.api.API object at 0x000002193FD3CF70>, _json={'id': 4744156397, 'id_str': '4744156397', 'name': 'The Rugby Scribbler 🏉', 'screen_name': 'RugbyScribbler', 'location': 'Bristol/ Swansea', 'description': 'Everyone ignores my rugby rants in the pub, so I put em online | Words with @PRO14Official @Sportsbeat @UltimateRugby @RugbyWorldmag et al | #RobCast host', 'url': 'https://t.co/vBmA6996a0', 'entities': {'url': {'urls': [{'url': 'https://t.co/vBmA6996a0', 'expanded_url': 'http://rugbyscribbles.wordpress.com', 'display_url': 'rugbyscribbles.wordpress.com', 'indices': [0, 23]}]}, 'description': {'urls': []}}, 'protected': False, 'followers_count': 2574, 'friends_count': 997, 'listed_count': 35, 'created_at': 'Fri Jan 08 11:59:14 +0000 2016', 'favourites_count': 44103, 'utc_offset': None, 'time_zone': None, 'geo_enabled': True, 'verified': False, 'statuses_count': 21919, 'lang': None, 'contributors_enabled': False, 'is_translator': False, 'is_translation_enabled': False, 'profile_background_color': 'F5F8FA', 'profile_background_image_url': None, 'profile_background_image_url_https': None, 'profile_background_tile': False, 'profile_image_url': 'http://pbs.twimg.com/profile_images/1327634942197641218/akvMdAEm_normal.jpg', 'profile_image_url_https': 'https://pbs.twimg.com/profile_images/1327634942197641218/akvMdAEm_normal.jpg', 'profile_banner_url': 'https://pbs.twimg.com/profile_banners/4744156397/1605367812', 'profile_link_color': '1DA1F2', 'profile_sidebar_border_color': 'C0DEED', 'profile_sidebar_fill_color': 'DDEEF6', 'profile_text_color': '333333', 'profile_use_background_image': True, 'has_extended_profile': True, 'default_profile': True, 'default_profile_image': False, 'following': True, 'follow_request_sent': False, 'notifications': False, 'translator_type': 'none', 'withheld_in_countries': []}, id=4744156397, id_str='4744156397', name='The Rugby Scribbler 🏉', screen_name='RugbyScribbler', location='Bristol/ Swansea', description='Everyone ignores my rugby rants in the pub, so I put em online | Words with @PRO14Official @Sportsbeat @UltimateRugby @RugbyWorldmag et al | #RobCast host', url='https://t.co/vBmA6996a0', entities={'url': {'urls': [{'url': 'https://t.co/vBmA6996a0', 'expanded_url': 'http://rugbyscribbles.wordpress.com', 'display_url': 'rugbyscribbles.wordpress.com', 'indices': [0, 23]}]}, 'description': {'urls': []}}, protected=False, followers_count=2574, friends_count=997, listed_count=35, created_at=datetime.datetime(2016, 1, 8, 11, 59, 14), favourites_count=44103, utc_offset=None, time_zone=None, geo_enabled=True, verified=False, statuses_count=21919, lang=None, contributors_enabled=False, is_translator=False, is_translation_enabled=False, profile_background_color='F5F8FA', profile_background_image_url=None, profile_background_image_url_https=None, profile_background_tile=False, profile_image_url='http://pbs.twimg.com/profile_images/1327634942197641218/akvMdAEm_normal.jpg', profile_image_url_https='https://pbs.twimg.com/profile_images/1327634942197641218/akvMdAEm_normal.jpg', profile_banner_url='https://pbs.twimg.com/profile_banners/4744156397/1605367812', profile_link_color='1DA1F2', profile_sidebar_border_color='C0DEED', profile_sidebar_fill_color='DDEEF6', profile_text_color='333333', profile_use_background_image=True, has_extended_profile=True, default_profile=True, default_profile_image=False, following=True, follow_request_sent=False, notifications=False, translator_type='none', withheld_in_countries=[]), geo=None, coordinates=None, place=None, contributors=None, is_quote_status=False, retweet_count=0, favorite_count=0, favorited=False, retweeted=False, lang='en'),\n",
       " Status(_api=<tweepy.api.API object at 0x000002193FD3CF70>, _json={'created_at': 'Sat Apr 24 17:23:58 +0000 2021', 'id': 1386008025736093697, 'id_str': '1386008025736093697', 'full_text': 'That looks nasty for George North. In proper pain. Hopefully a quick recovery #OSPvCAR #RainbowCup', 'truncated': False, 'display_text_range': [0, 98], 'entities': {'hashtags': [{'text': 'OSPvCAR', 'indices': [78, 86]}, {'text': 'RainbowCup', 'indices': [87, 98]}], 'symbols': [], 'user_mentions': [], 'urls': []}, 'source': '<a href=\"http://twitter.com/download/android\" rel=\"nofollow\">Twitter for Android</a>', 'in_reply_to_status_id': None, 'in_reply_to_status_id_str': None, 'in_reply_to_user_id': None, 'in_reply_to_user_id_str': None, 'in_reply_to_screen_name': None, 'user': {'id': 4744156397, 'id_str': '4744156397', 'name': 'The Rugby Scribbler 🏉', 'screen_name': 'RugbyScribbler', 'location': 'Bristol/ Swansea', 'description': 'Everyone ignores my rugby rants in the pub, so I put em online | Words with @PRO14Official @Sportsbeat @UltimateRugby @RugbyWorldmag et al | #RobCast host', 'url': 'https://t.co/vBmA6996a0', 'entities': {'url': {'urls': [{'url': 'https://t.co/vBmA6996a0', 'expanded_url': 'http://rugbyscribbles.wordpress.com', 'display_url': 'rugbyscribbles.wordpress.com', 'indices': [0, 23]}]}, 'description': {'urls': []}}, 'protected': False, 'followers_count': 2574, 'friends_count': 997, 'listed_count': 35, 'created_at': 'Fri Jan 08 11:59:14 +0000 2016', 'favourites_count': 44103, 'utc_offset': None, 'time_zone': None, 'geo_enabled': True, 'verified': False, 'statuses_count': 21919, 'lang': None, 'contributors_enabled': False, 'is_translator': False, 'is_translation_enabled': False, 'profile_background_color': 'F5F8FA', 'profile_background_image_url': None, 'profile_background_image_url_https': None, 'profile_background_tile': False, 'profile_image_url': 'http://pbs.twimg.com/profile_images/1327634942197641218/akvMdAEm_normal.jpg', 'profile_image_url_https': 'https://pbs.twimg.com/profile_images/1327634942197641218/akvMdAEm_normal.jpg', 'profile_banner_url': 'https://pbs.twimg.com/profile_banners/4744156397/1605367812', 'profile_link_color': '1DA1F2', 'profile_sidebar_border_color': 'C0DEED', 'profile_sidebar_fill_color': 'DDEEF6', 'profile_text_color': '333333', 'profile_use_background_image': True, 'has_extended_profile': True, 'default_profile': True, 'default_profile_image': False, 'following': True, 'follow_request_sent': False, 'notifications': False, 'translator_type': 'none', 'withheld_in_countries': []}, 'geo': None, 'coordinates': None, 'place': None, 'contributors': None, 'is_quote_status': False, 'retweet_count': 0, 'favorite_count': 0, 'favorited': False, 'retweeted': False, 'lang': 'en'}, created_at=datetime.datetime(2021, 4, 24, 17, 23, 58), id=1386008025736093697, id_str='1386008025736093697', full_text='That looks nasty for George North. In proper pain. Hopefully a quick recovery #OSPvCAR #RainbowCup', truncated=False, display_text_range=[0, 98], entities={'hashtags': [{'text': 'OSPvCAR', 'indices': [78, 86]}, {'text': 'RainbowCup', 'indices': [87, 98]}], 'symbols': [], 'user_mentions': [], 'urls': []}, source='Twitter for Android', source_url='http://twitter.com/download/android', in_reply_to_status_id=None, in_reply_to_status_id_str=None, in_reply_to_user_id=None, in_reply_to_user_id_str=None, in_reply_to_screen_name=None, author=User(_api=<tweepy.api.API object at 0x000002193FD3CF70>, _json={'id': 4744156397, 'id_str': '4744156397', 'name': 'The Rugby Scribbler 🏉', 'screen_name': 'RugbyScribbler', 'location': 'Bristol/ Swansea', 'description': 'Everyone ignores my rugby rants in the pub, so I put em online | Words with @PRO14Official @Sportsbeat @UltimateRugby @RugbyWorldmag et al | #RobCast host', 'url': 'https://t.co/vBmA6996a0', 'entities': {'url': {'urls': [{'url': 'https://t.co/vBmA6996a0', 'expanded_url': 'http://rugbyscribbles.wordpress.com', 'display_url': 'rugbyscribbles.wordpress.com', 'indices': [0, 23]}]}, 'description': {'urls': []}}, 'protected': False, 'followers_count': 2574, 'friends_count': 997, 'listed_count': 35, 'created_at': 'Fri Jan 08 11:59:14 +0000 2016', 'favourites_count': 44103, 'utc_offset': None, 'time_zone': None, 'geo_enabled': True, 'verified': False, 'statuses_count': 21919, 'lang': None, 'contributors_enabled': False, 'is_translator': False, 'is_translation_enabled': False, 'profile_background_color': 'F5F8FA', 'profile_background_image_url': None, 'profile_background_image_url_https': None, 'profile_background_tile': False, 'profile_image_url': 'http://pbs.twimg.com/profile_images/1327634942197641218/akvMdAEm_normal.jpg', 'profile_image_url_https': 'https://pbs.twimg.com/profile_images/1327634942197641218/akvMdAEm_normal.jpg', 'profile_banner_url': 'https://pbs.twimg.com/profile_banners/4744156397/1605367812', 'profile_link_color': '1DA1F2', 'profile_sidebar_border_color': 'C0DEED', 'profile_sidebar_fill_color': 'DDEEF6', 'profile_text_color': '333333', 'profile_use_background_image': True, 'has_extended_profile': True, 'default_profile': True, 'default_profile_image': False, 'following': True, 'follow_request_sent': False, 'notifications': False, 'translator_type': 'none', 'withheld_in_countries': []}, id=4744156397, id_str='4744156397', name='The Rugby Scribbler 🏉', screen_name='RugbyScribbler', location='Bristol/ Swansea', description='Everyone ignores my rugby rants in the pub, so I put em online | Words with @PRO14Official @Sportsbeat @UltimateRugby @RugbyWorldmag et al | #RobCast host', url='https://t.co/vBmA6996a0', entities={'url': {'urls': [{'url': 'https://t.co/vBmA6996a0', 'expanded_url': 'http://rugbyscribbles.wordpress.com', 'display_url': 'rugbyscribbles.wordpress.com', 'indices': [0, 23]}]}, 'description': {'urls': []}}, protected=False, followers_count=2574, friends_count=997, listed_count=35, created_at=datetime.datetime(2016, 1, 8, 11, 59, 14), favourites_count=44103, utc_offset=None, time_zone=None, geo_enabled=True, verified=False, statuses_count=21919, lang=None, contributors_enabled=False, is_translator=False, is_translation_enabled=False, profile_background_color='F5F8FA', profile_background_image_url=None, profile_background_image_url_https=None, profile_background_tile=False, profile_image_url='http://pbs.twimg.com/profile_images/1327634942197641218/akvMdAEm_normal.jpg', profile_image_url_https='https://pbs.twimg.com/profile_images/1327634942197641218/akvMdAEm_normal.jpg', profile_banner_url='https://pbs.twimg.com/profile_banners/4744156397/1605367812', profile_link_color='1DA1F2', profile_sidebar_border_color='C0DEED', profile_sidebar_fill_color='DDEEF6', profile_text_color='333333', profile_use_background_image=True, has_extended_profile=True, default_profile=True, default_profile_image=False, following=True, follow_request_sent=False, notifications=False, translator_type='none', withheld_in_countries=[]), user=User(_api=<tweepy.api.API object at 0x000002193FD3CF70>, _json={'id': 4744156397, 'id_str': '4744156397', 'name': 'The Rugby Scribbler 🏉', 'screen_name': 'RugbyScribbler', 'location': 'Bristol/ Swansea', 'description': 'Everyone ignores my rugby rants in the pub, so I put em online | Words with @PRO14Official @Sportsbeat @UltimateRugby @RugbyWorldmag et al | #RobCast host', 'url': 'https://t.co/vBmA6996a0', 'entities': {'url': {'urls': [{'url': 'https://t.co/vBmA6996a0', 'expanded_url': 'http://rugbyscribbles.wordpress.com', 'display_url': 'rugbyscribbles.wordpress.com', 'indices': [0, 23]}]}, 'description': {'urls': []}}, 'protected': False, 'followers_count': 2574, 'friends_count': 997, 'listed_count': 35, 'created_at': 'Fri Jan 08 11:59:14 +0000 2016', 'favourites_count': 44103, 'utc_offset': None, 'time_zone': None, 'geo_enabled': True, 'verified': False, 'statuses_count': 21919, 'lang': None, 'contributors_enabled': False, 'is_translator': False, 'is_translation_enabled': False, 'profile_background_color': 'F5F8FA', 'profile_background_image_url': None, 'profile_background_image_url_https': None, 'profile_background_tile': False, 'profile_image_url': 'http://pbs.twimg.com/profile_images/1327634942197641218/akvMdAEm_normal.jpg', 'profile_image_url_https': 'https://pbs.twimg.com/profile_images/1327634942197641218/akvMdAEm_normal.jpg', 'profile_banner_url': 'https://pbs.twimg.com/profile_banners/4744156397/1605367812', 'profile_link_color': '1DA1F2', 'profile_sidebar_border_color': 'C0DEED', 'profile_sidebar_fill_color': 'DDEEF6', 'profile_text_color': '333333', 'profile_use_background_image': True, 'has_extended_profile': True, 'default_profile': True, 'default_profile_image': False, 'following': True, 'follow_request_sent': False, 'notifications': False, 'translator_type': 'none', 'withheld_in_countries': []}, id=4744156397, id_str='4744156397', name='The Rugby Scribbler 🏉', screen_name='RugbyScribbler', location='Bristol/ Swansea', description='Everyone ignores my rugby rants in the pub, so I put em online | Words with @PRO14Official @Sportsbeat @UltimateRugby @RugbyWorldmag et al | #RobCast host', url='https://t.co/vBmA6996a0', entities={'url': {'urls': [{'url': 'https://t.co/vBmA6996a0', 'expanded_url': 'http://rugbyscribbles.wordpress.com', 'display_url': 'rugbyscribbles.wordpress.com', 'indices': [0, 23]}]}, 'description': {'urls': []}}, protected=False, followers_count=2574, friends_count=997, listed_count=35, created_at=datetime.datetime(2016, 1, 8, 11, 59, 14), favourites_count=44103, utc_offset=None, time_zone=None, geo_enabled=True, verified=False, statuses_count=21919, lang=None, contributors_enabled=False, is_translator=False, is_translation_enabled=False, profile_background_color='F5F8FA', profile_background_image_url=None, profile_background_image_url_https=None, profile_background_tile=False, profile_image_url='http://pbs.twimg.com/profile_images/1327634942197641218/akvMdAEm_normal.jpg', profile_image_url_https='https://pbs.twimg.com/profile_images/1327634942197641218/akvMdAEm_normal.jpg', profile_banner_url='https://pbs.twimg.com/profile_banners/4744156397/1605367812', profile_link_color='1DA1F2', profile_sidebar_border_color='C0DEED', profile_sidebar_fill_color='DDEEF6', profile_text_color='333333', profile_use_background_image=True, has_extended_profile=True, default_profile=True, default_profile_image=False, following=True, follow_request_sent=False, notifications=False, translator_type='none', withheld_in_countries=[]), geo=None, coordinates=None, place=None, contributors=None, is_quote_status=False, retweet_count=0, favorite_count=0, favorited=False, retweeted=False, lang='en')]"
      ]
     },
     "metadata": {},
     "execution_count": 15
    }
   ],
   "source": [
    "tweets = api.user_timeline(screen_name=userID, \n",
    "                           # 200 is the maximum allowed count\n",
    "                           count=200,\n",
    "                           include_rts = False,\n",
    "                           # Necessary to keep full_text \n",
    "                           # otherwise only the first 140 words are extracted\n",
    "                           tweet_mode = 'extended'\n",
    "                           )\n",
    "tweets"
   ]
  },
  {
   "cell_type": "code",
   "execution_count": 21,
   "metadata": {
    "tags": [
     "outputPrepend"
    ]
   },
   "outputs": [
    {
     "output_type": "stream",
     "name": "stdout",
     "text": [
      "OzWNqkq\n\n\nID: 1394909334958710787\n2021-05-19 06:54:36\nRead this. Don't read the Tripe from Neil Francis. Amazing what the odd fact here and there can do. Brilliant piece https://t.co/tadKaXYc45\n\n\nID: 1394905914352840708\n2021-05-19 06:41:00\n@Canuckruck @EnglandRugby Let's not get carried away he hasn't even had a Lion cap yet!\n\n\nID: 1394774909684011014\n2021-05-18 22:00:26\n@WorthyHarley Yeah England really rely on the grunt of Billy V. Shifts the game plan if you don't have him in\n\n\nID: 1394773422266363904\n2021-05-18 21:54:32\n@WorthyHarley To be honest I don't watch enough Exeter to comment, but I've always thought there's more to it. I think people have a very simplistic view of selection sometimes\n\n\nID: 1394773023853584387\n2021-05-18 21:52:57\n@Oldsuliansrfc https://t.co/saer1zec9x\n\n\nID: 1394766410501472265\n2021-05-18 21:26:40\n@WorthyHarley Aye, plenty of time. Which is scary\n\n\nID: 1394764808256372738\n2021-05-18 21:20:18\nOn a more rugby focused note, some achievement from Sam Simmods tonight\n\n\nID: 1394757554941616131\n2021-05-18 20:51:29\n@WorthyHarley @UnderTheStix That's much better listening! I was going to, but on my one mid week evening off, once my arse was on the sofa there was no going back for the laptop to watch!\n\n\nID: 1394747863037534209\n2021-05-18 20:12:58\n@neilwrightlegal Should have stuck to my convictions!\n\n\nID: 1394747608267173889\n2021-05-18 20:11:57\n@neilwrightlegal Okay my first response was too crude even for me haha. No point, just an observation!\n\n\nID: 1394744369673027586\n2021-05-18 19:59:05\n@WaspsKitMan Hellooo, could you drop me a DM please? 😊\n\n\nID: 1394741763261227016\n2021-05-18 19:48:44\nBT Sport have clearly decided that rugby fans are all balding men with erectile dysfunction. Never seen so many adverts for the same in such a condensed period\n\n\nID: 1394620281394696196\n2021-05-18 11:46:00\n@Brick15332607 @DjRossouw87 Oh yeah, the balance is completely distorted with the national based games etc, but it's a necessary bridge to expansion I guess!\n\n\nID: 1394599665065250820\n2021-05-18 10:24:05\n@DjRossouw87 And just the variation in fixtures. I'm less well versed on SA rugby, but the European part doesn't quite feel representative.. Which is no problem for the purpose of Rainbow Cup\n\n\nID: 1394597495964147715\n2021-05-18 10:15:28\n@DjRossouw87 You imagine the reality would be a little different!\n\n\nID: 1394593275818954760\n2021-05-18 09:58:41\nOnly in as much as nothing is quite what you would expect..\n\n..Basically Leinster aren't on top.\n\nAnd Italians aren't rock bottom.\n\nAnd Welsh sides are up there.\n\n\nID: 1394592938777325571\n2021-05-18 09:57:21\nDreaming of a European table like this in a full and normal season https://t.co/NsFWzipx1I\n\n\nID: 1394392898666381316\n2021-05-17 20:42:28\n@MrTomLuke At one stage he was Lions material I reckon, just wasn't timed right\n\n\nID: 1394381215575257094\n2021-05-17 19:56:02\n@WillRobrtsRugby Been thinking that this season! Captain consistent for Bristol.\n\n\nID: 1394378185870086147\n2021-05-17 19:44:00\n@MrTomLuke Yup. Really used to be one of my favourite centres. There was a period where he felt unstoppable.\n\n\nID: 1394369673957888002\n2021-05-17 19:10:11\nFor those asking. Alex Dunbar has announced his retirement from professional rugby. Great player at his peak https://t.co/O9p49vy3NF\n\n\nID: 1394369309716189189\n2021-05-17 19:08:44\n@MrTomLuke https://t.co/cR2OKUbddS\n\n\nID: 1394369119718453248\n2021-05-17 19:07:58\n@MrTomLuke His Instagram!\n\n\nID: 1394366836326678528\n2021-05-17 18:58:54\nSad to see Alex Dunbar have to retire. When he was at the top of his game he was unreal. One of the first in a wave of really good Scottish centres\n\n\nID: 1394215380034506753\n2021-05-17 08:57:04\nNot quite the usual rugby, but will be introducing Dr Dana Brablecova for our seminar later on. Join us 👍 https://t.co/HGWWfkSjCV\n\n\nID: 1393904219111968781\n2021-05-16 12:20:37\nRT https://t.co/IJ8OiJOQX6\n\n\nID: 1393595248425766913\n2021-05-15 15:52:53\nUsing the wrong hashtag all afternoon. Brilliant https://t.co/w2t6izPJQt\n\n\nID: 1393594092806881283\n2021-05-15 15:48:18\n@WorthyHarley Yeah, would be a good experienced head to bring into a younger team, you'd think\n\n\nID: 1393592532534272005\n2021-05-15 15:42:06\nUfff, another close finish to come #SCAvCBL #RainbowCup\n\n\nID: 1393588141412425733\n2021-05-15 15:24:39\n@WorthyHarley How old is he? Definitely one for consideration this summer regardless\n\n\nID: 1393584219864158209\n2021-05-15 15:09:04\nJosh Turnbull has been one of the best club men since the return to play after Covid. Central to everything at Cardiff Blues #SCAvCBL #RainbowCup\n\n\nID: 1393557363966283781\n2021-05-15 13:22:21\nWHAT a finish. 76 points at altitude and a points diff of just a few. Hell of a game in Johannesburg. #LIOvSHA #RainbowCupSA\n\n\nID: 1393555984652570632\n2021-05-15 13:16:52\nAnd just as you thought this game was set.. #LIOvSHA #RainbowCupSA\n\n\nID: 1393554470898999297\n2021-05-15 13:10:51\nCan't take my eyes of this game #LIOvSHA #RainbowCupSA\n\n\nID: 1393550881417797634\n2021-05-15 12:56:35\nOfficiating team sounding properly knackered in this. So much heavy breathing on the mic #LIOvSHA #RainbowCupSA\n\n\nID: 1393330085382524930\n2021-05-14 22:19:13\n@NeilBriogaisean @marc_mcgeemoore @tourscotland @NorthernStudies @Scott_Wortley @JillJRobbie @alkoshka1 @timbukthree @caldamac @DrivingMaul @CalumAM @RRMCrawford @DrNikLaw @NolanTara @Chris_R_Langley @mcbolshy @DrJamesEglinton @lixmount @thewssociety Appreciated! 😀\n\n\nID: 1393315992365846530\n2021-05-14 21:23:13\nThis was a lot of fun. Obrigado @francisaac87 @portaldorugby @JReeves98 A pleasure! https://t.co/ntcjnuBxuf\n\n\nID: 1393280170325327875\n2021-05-14 19:00:53\nWe're live! https://t.co/2ZWSe1jBbn\n\n\nID: 1393278251297091585\n2021-05-14 18:53:15\nMonumental performance and victory from Connacht #MUNvCON #RainbowCup\n\n\nID: 1393276376401186822\n2021-05-14 18:45:48\nNow on in 20 mins. Nice Post #MUNvCON viewing. Join us live on Up&amp;Under #Obrigado https://t.co/ntcjnuBxuf\n\n\nID: 1393273588489367557\n2021-05-14 18:34:43\nLive in 1 hour 20, that is.. 😃 https://t.co/B80pGdumOY\n\n\nID: 1393269410383769602\n2021-05-14 18:18:07\nAgain, not new information, but Ben Healey has literal cannons on him. Astute kicker doesn't cut it #MUNvCON #RainbowCup\n\n\nID: 1393267332575899648\n2021-05-14 18:09:52\nand don't worry, it's in English! That, or you'll get to see me guess Portuguese live on video\n\n\nID: 1393267119106691073\n2021-05-14 18:09:01\nLive in 20! Lends us yer ears, and maybe your retinas too https://t.co/NSDnOWCXSP\n\n\nID: 1393125063730282496\n2021-05-14 08:44:32\nHonoured to be asked onto @FairPlaypt podcast this evening! Obrigado, looking forward to it!\n\n\nID: 1392952538031403010\n2021-05-13 21:18:59\n@RnRRugby @IssieAtch Yes they can, that's why we're all blocked\n\n\nID: 1392538279124377601\n2021-05-12 17:52:52\n@boliviarugby @NandBTouchRugby @sudamericarugby @WorldRugby @UKinBolivia De nada muchachxs! El crecimiento del deporte es lo más importante, y al ver un país tan nuevo y ambicioso, todos tenemos nuestro rol en apoyarles con esto! Todos somos #coloradosdebolivia #elrugbynosune\n\n\nID: 1392502400016130053\n2021-05-12 15:30:18\nThe folks at my old club are helping with the kit donation to Bolivia! Thanks for the support, and anyone reading, just drop me a message or email to get involved! @boliviarugby @CamburnMark @UKinBolivia https://t.co/MeQX45xKxN\n\n\nID: 1392451742755917824\n2021-05-12 12:09:00\n@francisaac87 I didn't see this, will look now!\n\n\nID: 1391875477581836297\n2021-05-10 21:59:08\n.. Loads of good. But equally some of the issues listed still persist. An awful lot has changed in that time, but overall it has been positive. Shows me that outlooks can change, things can improve. I still get weird reading it, but I like to think someone has/will find it useful\n\n\nID: 1391875475132370945\n2021-05-10 21:59:07\n..and when I reflect since then I have: been press &amp; media translators for the Maori All Blacks, achieved a first with a distinction in my Spanish degree, Started MA, secured funding for it and am planning to convert it into a PhD. I have also just started a full-time job..\n\n\nID: 1391875473311928324\n2021-05-10 21:59:07\nAs it's #MentalHealthAwarenessWeek I just remembered this I wrote just over 3 years ago... https://t.co/NiwlnaWTwg\n\n\nID: 1391712807595413504\n2021-05-10 11:12:44\nGot told about the Argentina tests vs Wales over a week ago, but was too busy to type up the article. Does that still count as a scoop? 🙄\n\n\nID: 1391386091970830339\n2021-05-09 13:34:29\nRio Dyer is sonic #CBLvDRA\n\n\nID: 1391370045696135170\n2021-05-09 12:30:43\nShe does seem to enjoy a Rainbow Cup fixture or two https://t.co/br8kU0Z981\n\n\nID: 1391116051648233475\n2021-05-08 19:41:27\nHuge levels of respect for this https://t.co/JAzllpGp9C\n\n\nID: 1391083332100841482\n2021-05-08 17:31:26\nImpressive post match interview from Kyle Sinckler. Refreshing to see that level of openness and emotion #BATvBRI\n\n\nID: 1391074398564753419\n2021-05-08 16:55:56\nMalins with a good finish. Sliding early to make sure he gets over #BATvBRI\n\n\nID: 1391066894984228874\n2021-05-08 16:26:07\n@joshgardner @WorcsFaithful Had a player throw me under bus for not tagging them + saying I thought they had an off game. Ignored all my previous tweets saying they're class. \n\nMade out like I was abusive, the reality is their comments encouraged a pile on. It's a fine line, and many draw it in wrong place\n\n\nID: 1391057246721871872\n2021-05-08 15:47:46\nAnd an intercept.. Great read by Priestland. What a swing #BATvBRI\n\n\nID: 1391056645745164290\n2021-05-08 15:45:23\nTotally against the grain but Bath are in the lead. Bit of luck, but we'll finished from Watson #BATvBRI\n\n\nID: 1391052079981027328\n2021-05-08 15:27:15\nGutted to ditch #SHAvLIO but a Bristol Bath Derby cannot be missed #BATvBRI\n\n\nID: 1391041974656983042\n2021-05-08 14:47:05\nThat'll be a confidence booster before half time for Lions. Great change of direction and a great line there from *I still need to learn names* #SHAvLIO #RainbowCupSA\n\n\nID: 1391039281662136322\n2021-05-08 14:36:23\nSharks look really comfortable on the ball. Just holding it nicely and releasing the pass after taking the contact. Long way back for Lions already #SHAvLIO #RainbowCupSA\n\n\nID: 1391038512254836741\n2021-05-08 14:33:20\n@francisaac87 Definitely the former\n\n\nID: 1391037072803307521\n2021-05-08 14:27:37\n'He is a player' is such a great commentary piece.\n\nIt's a good compliment to receive and is a positive comment. \n\nBut equally, my mates are players. I was a player. The u8s I used to coach are players. If you're being a cynic.\n\n\nID: 1391030763680903169\n2021-05-08 14:02:32\nEnjoyed having build up coverage for the Rainbow Cup on @PremierSportsTV Can't say I'm the most knowledgeable about SA rugby, so a bit of insight is really welcome #RainbowCupSA\n\n\nID: 1390276254658699267\n2021-05-06 12:04:23\n@CamburnMark Not sure where I'm getting in. Ginger one? Bilingual one? Retired at 20y/o one?\n\n\nID: 1390275316673880068\n2021-05-06 12:00:40\n@CamburnMark There's always injury call ups 👍\n\n\nID: 1390272710551408642\n2021-05-06 11:50:18\nHOW DID I FORGET THE ANNOUNCEMENT\n\n\nID: 1390267494242344961\n2021-05-06 11:29:35\n@CamburnMark Nationality wise eligible, self described as a lank second row. You've similar attributes to me, and I'm confident on my chances\n\n\nID: 1390227286654345218\n2021-05-06 08:49:48\nWith all the conjecture and bullshittery today, it's important to remember that this is the level of most Lions content, just without the fancy words. NOW LETS GET ANGRY https://t.co/oQbjI5z5RP\n\n\nID: 1390226476763594755\n2021-05-06 08:46:35\nRawwwr hehe xD xD\n\n\nID: 1390214117982670849\n2021-05-06 07:57:29\nOmg guys since this tweet went viral, please check out my blog below xx https://t.co/f61EaHECED\n\n\nID: 1390214116581728261\n2021-05-06 07:57:28\nOutside chance, but an international lock that is used to playing at altitude?\n\nI'm going with @CamburnMark fro Lions second row.\n\nIs this a shameless promotion of an article and podcast I wrote?\n\nNo.\n\n\nID: 1390196846581063687\n2021-05-06 06:48:51\nOkay but we're all agreed Ryan Wilson is gonna be tour captain right?\n\n\nID: 1389473230403084289\n2021-05-04 06:53:27\nLatest pod with Mark Camburn of Bolivia rugby. Get this in to yer ears https://t.co/rxKTohGGdW\n\n\nID: 1389471181321945089\n2021-05-04 06:45:19\nGot a load of old kit lying around? Send it to me, and I'll get it to Bolivia.\n\nIt'll make a huge difference. Drop me a message or email rugbyscribbler@gmail.com https://t.co/vjqkBnicRa\n\n\nID: 1389470867608977408\n2021-05-04 06:44:04\n@boliviarugby @sudamericarugby Nada, suerte para los partidos contra Paraguay y Perú. Espero que se puedan jugarlos para que el rugby boliviano siga creciendo! #coloradosdebolivia #elrugbynosune\n\n\nID: 1389314305733152772\n2021-05-03 20:21:57\nPodcast is directly available here too: https://t.co/tPiblh72jA\n\nMuchísimas gracias a @CamburnMark y espero que puedan jugar los partidos contra Paraguay y Perú este año! #VamosColorados\n\n\nID: 1389314304353181699\n2021-05-03 20:21:57\nI plan to organise a kit collection for @boliviarugby, so please share around with friends, family and your clubs and get involved! Email rugbyscribbler@gmail.com to get involved.\n\nYou can also donate to Bolivia Rugby here: https://t.co/rcnI80fniC\n\n\nID: 1389314302981681154\n2021-05-03 20:21:56\nPOD/ARTICLE: I spoke with @CamburnMark the Captain of the Bolivian National Rugby Team @boliviarugby\n\nWe spoke pandemics, the Superliga Americana de Rugby @SLARugby, solidarity from @Scotlandteam, @AlistairPrice, @gregortownsend, Steve Tandy + other bits!\n\nhttps://t.co/f61EaHECED\n\n\nID: 1389298594520436742\n2021-05-03 19:19:31\nDid I make this due to finding Emperor's New Groove Llamaposting, and it making my month infinitely brighter? Yes.\n\n\nID: 1389298366136336389\n2021-05-03 19:18:37\nFollowed by a more accurate one https://t.co/g6wcBb2j5H\n\n\nID: 1389298280161480714\n2021-05-03 19:18:16\nLow effort meme https://t.co/e3L65DgorR\n\n\nID: 1388962798978355200\n2021-05-02 21:05:11\n@LinebreakRugby @thedeadballarea I decide years ago to avoid following clubs etc and I don't feel like I miss much. Just allows me to focus on the real content and the complaining\n\n\nID: 1388820825718116359\n2021-05-02 11:41:02\nOn a side note, always try and talk to people in a rugby jersey, ideally from the team they do/have represented. Always wonder if its cheesy, but puts me in the right mind set\n\n\nID: 1388813048325058560\n2021-05-02 11:10:08\nA ver... ¿Con quien hablo hoy? https://t.co/LIwadkRKGW\n\n\nID: 1388782677629837314\n2021-05-02 09:09:27\n“it’s different when someone takes the position of teaching our culture, tries to speak for us and commercializes it. Those types of activities are just disrespectful.” https://t.co/RkiFGth7Fz\n\n\nID: 1388781746951446528\n2021-05-02 09:05:45\nHowever, in hindsight its still clear cultural appropriation. I stumbled across this excellent piece from @Piover45 who writes for @ChileTodayNews which explains the issue excellently. Rugby has a long way to go still https://t.co/P2M1F3VKm4\n\n\nID: 1388781745613459459\n2021-05-02 09:05:45\nAnd here the Selknam question stumped me. Many Chileans weren't sure in my poll. Selknam rugby team do at least post information about the Selknam, educating their fans a little, so it felt less clear cut. https://t.co/1a1530GtHb\n\n\nID: 1388781744380391428\n2021-05-02 09:05:44\nI also wrote an article of course on the Exeter Chiefs, Maori All Blacks and Selknam (Chile) who all have varying relationships with indigeneity, good and bad. I should also highlight an inaccuracy, many claim that the Selknam are extinct (as I do in the article) but they are not\n\n\nID: 1388781742891356160\n2021-05-02 09:05:44\nSo I've previously highlighted the problematic nature of 'Benetton' being title sponsors/owners of Treviso rugby due to their involvement in Patagonia.. https://t.co/XCrqxsR0Q1\n\n\nID: 1388633548467445761\n2021-05-01 23:16:52\n@RugbyMoaning Disappointed I didn't pick you up on it, and publicly shame you. We have both failed\n\n\nID: 1388494105357996032\n2021-05-01 14:02:46\n@DjRossouw87 Had half an eye on it, but looked solid up front and lots of pace put wide. Entertaining match up Stormers will be disappointed to have let it slide!\n\n\nID: 1388492086127779840\n2021-05-01 13:54:44\nWhat an introduction that was #STOvSHA #RainbowCupSA\n\n\nID: 1388489574024945666\n2021-05-01 13:44:45\n@WorthyHarley Ooo, I like that. Don't know how I missed it\n\n\nID: 1388481296322736131\n2021-05-01 13:11:52\n@WorthyHarley Shot clock graphic?\n\n\nID: 1388474930946265088\n2021-05-01 12:46:34\nLoving all of the trial laws in #RainbowCup so far, just not this red card lark #STOvSHA\n\n\nID: 1388468331775205382\n2021-05-01 12:20:21\nThat is a lucky yellow... South African interpretations of cards different? Genuine question #STOvSHA #RainbowCup\n\n\nID: 1388467288450519041\n2021-05-01 12:16:12\nRed for Sentala.. Reckless  #STOvSHA #RainbowCup\n\n\nID: 1388466411572535299\n2021-05-01 12:12:43\n@DjRossouw87 Ooo I remember Sentala. Makes me realise how much of a euro rugby bubble I am in, in reality\n\n\nID: 1388465793999020033\n2021-05-01 12:10:16\nIn other news, I have some name learning to do #STOvSHA #RainbowCup\n\n\nID: 1388465792824512524\n2021-05-01 12:10:16\nLots to like in that first Stormers try. Patient, nice hands and loads of support. Nice incisive running line by (12?)\n\n\nID: 1388418733874483201\n2021-05-01 09:03:16\nRainbow Cup SA day, bring it on\n\n\nID: 1388021598255521804\n2021-04-30 06:45:11\nThe fact that rugby has a place for racists as well as sex offenders tells you we have a long way to go.\n\n'Hooligans game played by gentlemen' couldn't feel more outdated and inappropriate.\n\n\nID: 1388020657703751685\n2021-04-30 06:41:27\nThis is disappointing https://t.co/Ny2b3oS0qf\n\n\nID: 1387731798659055620\n2021-04-29 11:33:38\nThey're really mixing things up with the Rainbow Cup. https://t.co/f37iSHXxN5\n\n\nID: 1387663234812022789\n2021-04-29 07:01:11\n@SelknamRugby hola, soy periodista británico, me pueden enviar un mensaje por favor para que pueda contactarles?\n\n\nID: 1387353889414995971\n2021-04-28 10:31:57\nStill remember Tommy tearing through Leinster on a sunny day at Scotstoun. At his heights he was such a quality winger for Glasgow and Scotland https://t.co/uaKtGEP9OL\n\n\nID: 1387353571608436736\n2021-04-28 10:30:41\nACL injury for George North. Gutting\n\n\nID: 1386744775618015232\n2021-04-26 18:11:33\nIf anyone could help me out, I'd be really interested to hear your thoughts..... https://t.co/Q4C1oKN9dv\n\n\nID: 1386380706700476424\n2021-04-25 18:04:52\nAnyone want to produce a podcast and written content for me? Free of charge ofc. Literally for no benefit. No guarantee the content will be noticed. But you could do it, couldn't you?\n\nNB: Juggling postgrad studies, a full-time job + a blog whilst not being a recluse is a hard\n\n\nID: 1386325585690079234\n2021-04-25 14:25:50\n@RugbyMoaning Aye, it hasn't been the best has it\n\n\nID: 1386317863477252097\n2021-04-25 13:55:09\nLeinster vs Glasgow for wooden spoon play off https://t.co/TqE1XflUy5\n\n\nID: 1386316793866821633\n2021-04-25 13:50:54\nVery much looking forward to the SA games next weekend #RainbowCupSA\n\n\nID: 1386316624454721536\n2021-04-25 13:50:14\nThis has been a very entertaining game of rugby. Wasn't hugely excited for Rainbow Cup, but Glasgow result aside, it has been really enjoyable #DRAvSCA #RainbowCup\n\n\nID: 1386312355819130884\n2021-04-25 13:33:16\nImagine the scenes. Can't decide if all the trolls would be out, or back under their bridges\n\n\nID: 1386312141968269316\n2021-04-25 13:32:25\nDRAGONS VS TREVISO FOR THE RAINBOW CUP FINAL #RainbowCup\n\n\nID: 1386308320550662147\n2021-04-25 13:17:14\nLovely bonus point score for the Dragons #DRAvSCA #RainbowCup\n\n\nID: 1386009916884848643\n2021-04-24 17:31:29\n@Roarzz Where did their cousin adopt a dog from in their childhood?\n\n\nID: 1386009544908754945\n2021-04-24 17:30:00\nHow are we gonna blame the corrupt ref from the home side when they're all from the same country 🤷‍♂️ #OSPvCAR #RainbowCup\n\n\nID: 1386008025736093697\n2021-04-24 17:23:58\nThat looks nasty for George North. In proper pain. Hopefully a quick recovery #OSPvCAR #RainbowCup\n\n\n"
     ]
    }
   ],
   "source": [
    "for info in tweets:\n",
    "     print(\"ID: {}\".format(info.id))\n",
    "     print(info.created_at)\n",
    "     print(info.full_text)\n",
    "     print(\"\\n\")"
   ]
  },
  {
   "source": [
    "# News test\n",
    "\n",
    "See if we can specify a group of news channels and get all of their tweet IDs\n",
    "\n",
    "https://fairyonice.github.io/extract-someones-tweet-using-tweepy.html"
   ],
   "cell_type": "markdown",
   "metadata": {}
  },
  {
   "cell_type": "code",
   "execution_count": 22,
   "metadata": {},
   "outputs": [],
   "source": [
    "twitter_users = ['BBC', 'BBCWales', 'BBCEngland', 'BBCScotland', 'ITVWales']"
   ]
  },
  {
   "cell_type": "code",
   "execution_count": 25,
   "metadata": {
    "tags": [
     "outputPrepend"
    ]
   },
   "outputs": [
    {
     "output_type": "stream",
     "name": "stdout",
     "text": [
      " 257 User: BBCWales ID: 1386316624454721536\n",
      "Row: 258 User: BBCWales ID: 1386312355819130884\n",
      "Row: 259 User: BBCWales ID: 1386312141968269316\n",
      "Row: 260 User: BBCWales ID: 1386308320550662147\n",
      "Row: 261 User: BBCWales ID: 1386009916884848643\n",
      "Row: 262 User: BBCWales ID: 1386009544908754945\n",
      "Row: 263 User: BBCWales ID: 1386008025736093697\n",
      "Row: 264 User: BBCEngland ID: 1395824546507378697\n",
      "Row: 265 User: BBCEngland ID: 1395822544951914502\n",
      "Row: 266 User: BBCEngland ID: 1395636623279366146\n",
      "Row: 267 User: BBCEngland ID: 1395635867419545601\n",
      "Row: 268 User: BBCEngland ID: 1395489815437656064\n",
      "Row: 269 User: BBCEngland ID: 1395471205587636224\n",
      "Row: 270 User: BBCEngland ID: 1394941530658402304\n",
      "Row: 271 User: BBCEngland ID: 1394915140441722881\n",
      "Row: 272 User: BBCEngland ID: 1394909442995523584\n",
      "Row: 273 User: BBCEngland ID: 1394909334958710787\n",
      "Row: 274 User: BBCEngland ID: 1394905914352840708\n",
      "Row: 275 User: BBCEngland ID: 1394774909684011014\n",
      "Row: 276 User: BBCEngland ID: 1394773422266363904\n",
      "Row: 277 User: BBCEngland ID: 1394773023853584387\n",
      "Row: 278 User: BBCEngland ID: 1394766410501472265\n",
      "Row: 279 User: BBCEngland ID: 1394764808256372738\n",
      "Row: 280 User: BBCEngland ID: 1394757554941616131\n",
      "Row: 281 User: BBCEngland ID: 1394747863037534209\n",
      "Row: 282 User: BBCEngland ID: 1394747608267173889\n",
      "Row: 283 User: BBCEngland ID: 1394744369673027586\n",
      "Row: 284 User: BBCEngland ID: 1394741763261227016\n",
      "Row: 285 User: BBCEngland ID: 1394620281394696196\n",
      "Row: 286 User: BBCEngland ID: 1394599665065250820\n",
      "Row: 287 User: BBCEngland ID: 1394597495964147715\n",
      "Row: 288 User: BBCEngland ID: 1394593275818954760\n",
      "Row: 289 User: BBCEngland ID: 1394592938777325571\n",
      "Row: 290 User: BBCEngland ID: 1394392898666381316\n",
      "Row: 291 User: BBCEngland ID: 1394381215575257094\n",
      "Row: 292 User: BBCEngland ID: 1394378185870086147\n",
      "Row: 293 User: BBCEngland ID: 1394369673957888002\n",
      "Row: 294 User: BBCEngland ID: 1394369309716189189\n",
      "Row: 295 User: BBCEngland ID: 1394369119718453248\n",
      "Row: 296 User: BBCEngland ID: 1394366836326678528\n",
      "Row: 297 User: BBCEngland ID: 1394215380034506753\n",
      "Row: 298 User: BBCEngland ID: 1393904219111968781\n",
      "Row: 299 User: BBCEngland ID: 1393595248425766913\n",
      "Row: 300 User: BBCEngland ID: 1393594092806881283\n",
      "Row: 301 User: BBCEngland ID: 1393592532534272005\n",
      "Row: 302 User: BBCEngland ID: 1393588141412425733\n",
      "Row: 303 User: BBCEngland ID: 1393584219864158209\n",
      "Row: 304 User: BBCEngland ID: 1393557363966283781\n",
      "Row: 305 User: BBCEngland ID: 1393555984652570632\n",
      "Row: 306 User: BBCEngland ID: 1393554470898999297\n",
      "Row: 307 User: BBCEngland ID: 1393550881417797634\n",
      "Row: 308 User: BBCEngland ID: 1393330085382524930\n",
      "Row: 309 User: BBCEngland ID: 1393315992365846530\n",
      "Row: 310 User: BBCEngland ID: 1393280170325327875\n",
      "Row: 311 User: BBCEngland ID: 1393278251297091585\n",
      "Row: 312 User: BBCEngland ID: 1393276376401186822\n",
      "Row: 313 User: BBCEngland ID: 1393273588489367557\n",
      "Row: 314 User: BBCEngland ID: 1393269410383769602\n",
      "Row: 315 User: BBCEngland ID: 1393267332575899648\n",
      "Row: 316 User: BBCEngland ID: 1393267119106691073\n",
      "Row: 317 User: BBCEngland ID: 1393125063730282496\n",
      "Row: 318 User: BBCEngland ID: 1392952538031403010\n",
      "Row: 319 User: BBCEngland ID: 1392538279124377601\n",
      "Row: 320 User: BBCEngland ID: 1392502400016130053\n",
      "Row: 321 User: BBCEngland ID: 1392451742755917824\n",
      "Row: 322 User: BBCEngland ID: 1391875477581836297\n",
      "Row: 323 User: BBCEngland ID: 1391875475132370945\n",
      "Row: 324 User: BBCEngland ID: 1391875473311928324\n",
      "Row: 325 User: BBCEngland ID: 1391712807595413504\n",
      "Row: 326 User: BBCEngland ID: 1391386091970830339\n",
      "Row: 327 User: BBCEngland ID: 1391370045696135170\n",
      "Row: 328 User: BBCEngland ID: 1391116051648233475\n",
      "Row: 329 User: BBCEngland ID: 1391083332100841482\n",
      "Row: 330 User: BBCEngland ID: 1391074398564753419\n",
      "Row: 331 User: BBCEngland ID: 1391066894984228874\n",
      "Row: 332 User: BBCEngland ID: 1391057246721871872\n",
      "Row: 333 User: BBCEngland ID: 1391056645745164290\n",
      "Row: 334 User: BBCEngland ID: 1391052079981027328\n",
      "Row: 335 User: BBCEngland ID: 1391041974656983042\n",
      "Row: 336 User: BBCEngland ID: 1391039281662136322\n",
      "Row: 337 User: BBCEngland ID: 1391038512254836741\n",
      "Row: 338 User: BBCEngland ID: 1391037072803307521\n",
      "Row: 339 User: BBCEngland ID: 1391030763680903169\n",
      "Row: 340 User: BBCEngland ID: 1390276254658699267\n",
      "Row: 341 User: BBCEngland ID: 1390275316673880068\n",
      "Row: 342 User: BBCEngland ID: 1390272710551408642\n",
      "Row: 343 User: BBCEngland ID: 1390267494242344961\n",
      "Row: 344 User: BBCEngland ID: 1390227286654345218\n",
      "Row: 345 User: BBCEngland ID: 1390226476763594755\n",
      "Row: 346 User: BBCEngland ID: 1390214117982670849\n",
      "Row: 347 User: BBCEngland ID: 1390214116581728261\n",
      "Row: 348 User: BBCEngland ID: 1390196846581063687\n",
      "Row: 349 User: BBCEngland ID: 1389473230403084289\n",
      "Row: 350 User: BBCEngland ID: 1389471181321945089\n",
      "Row: 351 User: BBCEngland ID: 1389470867608977408\n",
      "Row: 352 User: BBCEngland ID: 1389314305733152772\n",
      "Row: 353 User: BBCEngland ID: 1389314304353181699\n",
      "Row: 354 User: BBCEngland ID: 1389314302981681154\n",
      "Row: 355 User: BBCEngland ID: 1389298594520436742\n",
      "Row: 356 User: BBCEngland ID: 1389298366136336389\n",
      "Row: 357 User: BBCEngland ID: 1389298280161480714\n",
      "Row: 358 User: BBCEngland ID: 1388962798978355200\n",
      "Row: 359 User: BBCEngland ID: 1388820825718116359\n",
      "Row: 360 User: BBCEngland ID: 1388813048325058560\n",
      "Row: 361 User: BBCEngland ID: 1388782677629837314\n",
      "Row: 362 User: BBCEngland ID: 1388781746951446528\n",
      "Row: 363 User: BBCEngland ID: 1388781745613459459\n",
      "Row: 364 User: BBCEngland ID: 1388781744380391428\n",
      "Row: 365 User: BBCEngland ID: 1388781742891356160\n",
      "Row: 366 User: BBCEngland ID: 1388633548467445761\n",
      "Row: 367 User: BBCEngland ID: 1388494105357996032\n",
      "Row: 368 User: BBCEngland ID: 1388492086127779840\n",
      "Row: 369 User: BBCEngland ID: 1388489574024945666\n",
      "Row: 370 User: BBCEngland ID: 1388481296322736131\n",
      "Row: 371 User: BBCEngland ID: 1388474930946265088\n",
      "Row: 372 User: BBCEngland ID: 1388468331775205382\n",
      "Row: 373 User: BBCEngland ID: 1388467288450519041\n",
      "Row: 374 User: BBCEngland ID: 1388466411572535299\n",
      "Row: 375 User: BBCEngland ID: 1388465793999020033\n",
      "Row: 376 User: BBCEngland ID: 1388465792824512524\n",
      "Row: 377 User: BBCEngland ID: 1388418733874483201\n",
      "Row: 378 User: BBCEngland ID: 1388021598255521804\n",
      "Row: 379 User: BBCEngland ID: 1388020657703751685\n",
      "Row: 380 User: BBCEngland ID: 1387731798659055620\n",
      "Row: 381 User: BBCEngland ID: 1387663234812022789\n",
      "Row: 382 User: BBCEngland ID: 1387353889414995971\n",
      "Row: 383 User: BBCEngland ID: 1387353571608436736\n",
      "Row: 384 User: BBCEngland ID: 1386744775618015232\n",
      "Row: 385 User: BBCEngland ID: 1386380706700476424\n",
      "Row: 386 User: BBCEngland ID: 1386325585690079234\n",
      "Row: 387 User: BBCEngland ID: 1386317863477252097\n",
      "Row: 388 User: BBCEngland ID: 1386316793866821633\n",
      "Row: 389 User: BBCEngland ID: 1386316624454721536\n",
      "Row: 390 User: BBCEngland ID: 1386312355819130884\n",
      "Row: 391 User: BBCEngland ID: 1386312141968269316\n",
      "Row: 392 User: BBCEngland ID: 1386308320550662147\n",
      "Row: 393 User: BBCEngland ID: 1386009916884848643\n",
      "Row: 394 User: BBCEngland ID: 1386009544908754945\n",
      "Row: 395 User: BBCEngland ID: 1386008025736093697\n",
      "Row: 396 User: BBCScotland ID: 1395824546507378697\n",
      "Row: 397 User: BBCScotland ID: 1395822544951914502\n",
      "Row: 398 User: BBCScotland ID: 1395636623279366146\n",
      "Row: 399 User: BBCScotland ID: 1395635867419545601\n",
      "Row: 400 User: BBCScotland ID: 1395489815437656064\n",
      "Row: 401 User: BBCScotland ID: 1395471205587636224\n",
      "Row: 402 User: BBCScotland ID: 1394941530658402304\n",
      "Row: 403 User: BBCScotland ID: 1394915140441722881\n",
      "Row: 404 User: BBCScotland ID: 1394909442995523584\n",
      "Row: 405 User: BBCScotland ID: 1394909334958710787\n",
      "Row: 406 User: BBCScotland ID: 1394905914352840708\n",
      "Row: 407 User: BBCScotland ID: 1394774909684011014\n",
      "Row: 408 User: BBCScotland ID: 1394773422266363904\n",
      "Row: 409 User: BBCScotland ID: 1394773023853584387\n",
      "Row: 410 User: BBCScotland ID: 1394766410501472265\n",
      "Row: 411 User: BBCScotland ID: 1394764808256372738\n",
      "Row: 412 User: BBCScotland ID: 1394757554941616131\n",
      "Row: 413 User: BBCScotland ID: 1394747863037534209\n",
      "Row: 414 User: BBCScotland ID: 1394747608267173889\n",
      "Row: 415 User: BBCScotland ID: 1394744369673027586\n",
      "Row: 416 User: BBCScotland ID: 1394741763261227016\n",
      "Row: 417 User: BBCScotland ID: 1394620281394696196\n",
      "Row: 418 User: BBCScotland ID: 1394599665065250820\n",
      "Row: 419 User: BBCScotland ID: 1394597495964147715\n",
      "Row: 420 User: BBCScotland ID: 1394593275818954760\n",
      "Row: 421 User: BBCScotland ID: 1394592938777325571\n",
      "Row: 422 User: BBCScotland ID: 1394392898666381316\n",
      "Row: 423 User: BBCScotland ID: 1394381215575257094\n",
      "Row: 424 User: BBCScotland ID: 1394378185870086147\n",
      "Row: 425 User: BBCScotland ID: 1394369673957888002\n",
      "Row: 426 User: BBCScotland ID: 1394369309716189189\n",
      "Row: 427 User: BBCScotland ID: 1394369119718453248\n",
      "Row: 428 User: BBCScotland ID: 1394366836326678528\n",
      "Row: 429 User: BBCScotland ID: 1394215380034506753\n",
      "Row: 430 User: BBCScotland ID: 1393904219111968781\n",
      "Row: 431 User: BBCScotland ID: 1393595248425766913\n",
      "Row: 432 User: BBCScotland ID: 1393594092806881283\n",
      "Row: 433 User: BBCScotland ID: 1393592532534272005\n",
      "Row: 434 User: BBCScotland ID: 1393588141412425733\n",
      "Row: 435 User: BBCScotland ID: 1393584219864158209\n",
      "Row: 436 User: BBCScotland ID: 1393557363966283781\n",
      "Row: 437 User: BBCScotland ID: 1393555984652570632\n",
      "Row: 438 User: BBCScotland ID: 1393554470898999297\n",
      "Row: 439 User: BBCScotland ID: 1393550881417797634\n",
      "Row: 440 User: BBCScotland ID: 1393330085382524930\n",
      "Row: 441 User: BBCScotland ID: 1393315992365846530\n",
      "Row: 442 User: BBCScotland ID: 1393280170325327875\n",
      "Row: 443 User: BBCScotland ID: 1393278251297091585\n",
      "Row: 444 User: BBCScotland ID: 1393276376401186822\n",
      "Row: 445 User: BBCScotland ID: 1393273588489367557\n",
      "Row: 446 User: BBCScotland ID: 1393269410383769602\n",
      "Row: 447 User: BBCScotland ID: 1393267332575899648\n",
      "Row: 448 User: BBCScotland ID: 1393267119106691073\n",
      "Row: 449 User: BBCScotland ID: 1393125063730282496\n",
      "Row: 450 User: BBCScotland ID: 1392952538031403010\n",
      "Row: 451 User: BBCScotland ID: 1392538279124377601\n",
      "Row: 452 User: BBCScotland ID: 1392502400016130053\n",
      "Row: 453 User: BBCScotland ID: 1392451742755917824\n",
      "Row: 454 User: BBCScotland ID: 1391875477581836297\n",
      "Row: 455 User: BBCScotland ID: 1391875475132370945\n",
      "Row: 456 User: BBCScotland ID: 1391875473311928324\n",
      "Row: 457 User: BBCScotland ID: 1391712807595413504\n",
      "Row: 458 User: BBCScotland ID: 1391386091970830339\n",
      "Row: 459 User: BBCScotland ID: 1391370045696135170\n",
      "Row: 460 User: BBCScotland ID: 1391116051648233475\n",
      "Row: 461 User: BBCScotland ID: 1391083332100841482\n",
      "Row: 462 User: BBCScotland ID: 1391074398564753419\n",
      "Row: 463 User: BBCScotland ID: 1391066894984228874\n",
      "Row: 464 User: BBCScotland ID: 1391057246721871872\n",
      "Row: 465 User: BBCScotland ID: 1391056645745164290\n",
      "Row: 466 User: BBCScotland ID: 1391052079981027328\n",
      "Row: 467 User: BBCScotland ID: 1391041974656983042\n",
      "Row: 468 User: BBCScotland ID: 1391039281662136322\n",
      "Row: 469 User: BBCScotland ID: 1391038512254836741\n",
      "Row: 470 User: BBCScotland ID: 1391037072803307521\n",
      "Row: 471 User: BBCScotland ID: 1391030763680903169\n",
      "Row: 472 User: BBCScotland ID: 1390276254658699267\n",
      "Row: 473 User: BBCScotland ID: 1390275316673880068\n",
      "Row: 474 User: BBCScotland ID: 1390272710551408642\n",
      "Row: 475 User: BBCScotland ID: 1390267494242344961\n",
      "Row: 476 User: BBCScotland ID: 1390227286654345218\n",
      "Row: 477 User: BBCScotland ID: 1390226476763594755\n",
      "Row: 478 User: BBCScotland ID: 1390214117982670849\n",
      "Row: 479 User: BBCScotland ID: 1390214116581728261\n",
      "Row: 480 User: BBCScotland ID: 1390196846581063687\n",
      "Row: 481 User: BBCScotland ID: 1389473230403084289\n",
      "Row: 482 User: BBCScotland ID: 1389471181321945089\n",
      "Row: 483 User: BBCScotland ID: 1389470867608977408\n",
      "Row: 484 User: BBCScotland ID: 1389314305733152772\n",
      "Row: 485 User: BBCScotland ID: 1389314304353181699\n",
      "Row: 486 User: BBCScotland ID: 1389314302981681154\n",
      "Row: 487 User: BBCScotland ID: 1389298594520436742\n",
      "Row: 488 User: BBCScotland ID: 1389298366136336389\n",
      "Row: 489 User: BBCScotland ID: 1389298280161480714\n",
      "Row: 490 User: BBCScotland ID: 1388962798978355200\n",
      "Row: 491 User: BBCScotland ID: 1388820825718116359\n",
      "Row: 492 User: BBCScotland ID: 1388813048325058560\n",
      "Row: 493 User: BBCScotland ID: 1388782677629837314\n",
      "Row: 494 User: BBCScotland ID: 1388781746951446528\n",
      "Row: 495 User: BBCScotland ID: 1388781745613459459\n",
      "Row: 496 User: BBCScotland ID: 1388781744380391428\n",
      "Row: 497 User: BBCScotland ID: 1388781742891356160\n",
      "Row: 498 User: BBCScotland ID: 1388633548467445761\n",
      "Row: 499 User: BBCScotland ID: 1388494105357996032\n",
      "Row: 500 User: BBCScotland ID: 1388492086127779840\n",
      "Row: 501 User: BBCScotland ID: 1388489574024945666\n",
      "Row: 502 User: BBCScotland ID: 1388481296322736131\n",
      "Row: 503 User: BBCScotland ID: 1388474930946265088\n",
      "Row: 504 User: BBCScotland ID: 1388468331775205382\n",
      "Row: 505 User: BBCScotland ID: 1388467288450519041\n",
      "Row: 506 User: BBCScotland ID: 1388466411572535299\n",
      "Row: 507 User: BBCScotland ID: 1388465793999020033\n",
      "Row: 508 User: BBCScotland ID: 1388465792824512524\n",
      "Row: 509 User: BBCScotland ID: 1388418733874483201\n",
      "Row: 510 User: BBCScotland ID: 1388021598255521804\n",
      "Row: 511 User: BBCScotland ID: 1388020657703751685\n",
      "Row: 512 User: BBCScotland ID: 1387731798659055620\n",
      "Row: 513 User: BBCScotland ID: 1387663234812022789\n",
      "Row: 514 User: BBCScotland ID: 1387353889414995971\n",
      "Row: 515 User: BBCScotland ID: 1387353571608436736\n",
      "Row: 516 User: BBCScotland ID: 1386744775618015232\n",
      "Row: 517 User: BBCScotland ID: 1386380706700476424\n",
      "Row: 518 User: BBCScotland ID: 1386325585690079234\n",
      "Row: 519 User: BBCScotland ID: 1386317863477252097\n",
      "Row: 520 User: BBCScotland ID: 1386316793866821633\n",
      "Row: 521 User: BBCScotland ID: 1386316624454721536\n",
      "Row: 522 User: BBCScotland ID: 1386312355819130884\n",
      "Row: 523 User: BBCScotland ID: 1386312141968269316\n",
      "Row: 524 User: BBCScotland ID: 1386308320550662147\n",
      "Row: 525 User: BBCScotland ID: 1386009916884848643\n",
      "Row: 526 User: BBCScotland ID: 1386009544908754945\n",
      "Row: 527 User: BBCScotland ID: 1386008025736093697\n",
      "Row: 528 User: ITVWales ID: 1395824546507378697\n",
      "Row: 529 User: ITVWales ID: 1395822544951914502\n",
      "Row: 530 User: ITVWales ID: 1395636623279366146\n",
      "Row: 531 User: ITVWales ID: 1395635867419545601\n",
      "Row: 532 User: ITVWales ID: 1395489815437656064\n",
      "Row: 533 User: ITVWales ID: 1395471205587636224\n",
      "Row: 534 User: ITVWales ID: 1394941530658402304\n",
      "Row: 535 User: ITVWales ID: 1394915140441722881\n",
      "Row: 536 User: ITVWales ID: 1394909442995523584\n",
      "Row: 537 User: ITVWales ID: 1394909334958710787\n",
      "Row: 538 User: ITVWales ID: 1394905914352840708\n",
      "Row: 539 User: ITVWales ID: 1394774909684011014\n",
      "Row: 540 User: ITVWales ID: 1394773422266363904\n",
      "Row: 541 User: ITVWales ID: 1394773023853584387\n",
      "Row: 542 User: ITVWales ID: 1394766410501472265\n",
      "Row: 543 User: ITVWales ID: 1394764808256372738\n",
      "Row: 544 User: ITVWales ID: 1394757554941616131\n",
      "Row: 545 User: ITVWales ID: 1394747863037534209\n",
      "Row: 546 User: ITVWales ID: 1394747608267173889\n",
      "Row: 547 User: ITVWales ID: 1394744369673027586\n",
      "Row: 548 User: ITVWales ID: 1394741763261227016\n",
      "Row: 549 User: ITVWales ID: 1394620281394696196\n",
      "Row: 550 User: ITVWales ID: 1394599665065250820\n",
      "Row: 551 User: ITVWales ID: 1394597495964147715\n",
      "Row: 552 User: ITVWales ID: 1394593275818954760\n",
      "Row: 553 User: ITVWales ID: 1394592938777325571\n",
      "Row: 554 User: ITVWales ID: 1394392898666381316\n",
      "Row: 555 User: ITVWales ID: 1394381215575257094\n",
      "Row: 556 User: ITVWales ID: 1394378185870086147\n",
      "Row: 557 User: ITVWales ID: 1394369673957888002\n",
      "Row: 558 User: ITVWales ID: 1394369309716189189\n",
      "Row: 559 User: ITVWales ID: 1394369119718453248\n",
      "Row: 560 User: ITVWales ID: 1394366836326678528\n",
      "Row: 561 User: ITVWales ID: 1394215380034506753\n",
      "Row: 562 User: ITVWales ID: 1393904219111968781\n",
      "Row: 563 User: ITVWales ID: 1393595248425766913\n",
      "Row: 564 User: ITVWales ID: 1393594092806881283\n",
      "Row: 565 User: ITVWales ID: 1393592532534272005\n",
      "Row: 566 User: ITVWales ID: 1393588141412425733\n",
      "Row: 567 User: ITVWales ID: 1393584219864158209\n",
      "Row: 568 User: ITVWales ID: 1393557363966283781\n",
      "Row: 569 User: ITVWales ID: 1393555984652570632\n",
      "Row: 570 User: ITVWales ID: 1393554470898999297\n",
      "Row: 571 User: ITVWales ID: 1393550881417797634\n",
      "Row: 572 User: ITVWales ID: 1393330085382524930\n",
      "Row: 573 User: ITVWales ID: 1393315992365846530\n",
      "Row: 574 User: ITVWales ID: 1393280170325327875\n",
      "Row: 575 User: ITVWales ID: 1393278251297091585\n",
      "Row: 576 User: ITVWales ID: 1393276376401186822\n",
      "Row: 577 User: ITVWales ID: 1393273588489367557\n",
      "Row: 578 User: ITVWales ID: 1393269410383769602\n",
      "Row: 579 User: ITVWales ID: 1393267332575899648\n",
      "Row: 580 User: ITVWales ID: 1393267119106691073\n",
      "Row: 581 User: ITVWales ID: 1393125063730282496\n",
      "Row: 582 User: ITVWales ID: 1392952538031403010\n",
      "Row: 583 User: ITVWales ID: 1392538279124377601\n",
      "Row: 584 User: ITVWales ID: 1392502400016130053\n",
      "Row: 585 User: ITVWales ID: 1392451742755917824\n",
      "Row: 586 User: ITVWales ID: 1391875477581836297\n",
      "Row: 587 User: ITVWales ID: 1391875475132370945\n",
      "Row: 588 User: ITVWales ID: 1391875473311928324\n",
      "Row: 589 User: ITVWales ID: 1391712807595413504\n",
      "Row: 590 User: ITVWales ID: 1391386091970830339\n",
      "Row: 591 User: ITVWales ID: 1391370045696135170\n",
      "Row: 592 User: ITVWales ID: 1391116051648233475\n",
      "Row: 593 User: ITVWales ID: 1391083332100841482\n",
      "Row: 594 User: ITVWales ID: 1391074398564753419\n",
      "Row: 595 User: ITVWales ID: 1391066894984228874\n",
      "Row: 596 User: ITVWales ID: 1391057246721871872\n",
      "Row: 597 User: ITVWales ID: 1391056645745164290\n",
      "Row: 598 User: ITVWales ID: 1391052079981027328\n",
      "Row: 599 User: ITVWales ID: 1391041974656983042\n",
      "Row: 600 User: ITVWales ID: 1391039281662136322\n",
      "Row: 601 User: ITVWales ID: 1391038512254836741\n",
      "Row: 602 User: ITVWales ID: 1391037072803307521\n",
      "Row: 603 User: ITVWales ID: 1391030763680903169\n",
      "Row: 604 User: ITVWales ID: 1390276254658699267\n",
      "Row: 605 User: ITVWales ID: 1390275316673880068\n",
      "Row: 606 User: ITVWales ID: 1390272710551408642\n",
      "Row: 607 User: ITVWales ID: 1390267494242344961\n",
      "Row: 608 User: ITVWales ID: 1390227286654345218\n",
      "Row: 609 User: ITVWales ID: 1390226476763594755\n",
      "Row: 610 User: ITVWales ID: 1390214117982670849\n",
      "Row: 611 User: ITVWales ID: 1390214116581728261\n",
      "Row: 612 User: ITVWales ID: 1390196846581063687\n",
      "Row: 613 User: ITVWales ID: 1389473230403084289\n",
      "Row: 614 User: ITVWales ID: 1389471181321945089\n",
      "Row: 615 User: ITVWales ID: 1389470867608977408\n",
      "Row: 616 User: ITVWales ID: 1389314305733152772\n",
      "Row: 617 User: ITVWales ID: 1389314304353181699\n",
      "Row: 618 User: ITVWales ID: 1389314302981681154\n",
      "Row: 619 User: ITVWales ID: 1389298594520436742\n",
      "Row: 620 User: ITVWales ID: 1389298366136336389\n",
      "Row: 621 User: ITVWales ID: 1389298280161480714\n",
      "Row: 622 User: ITVWales ID: 1388962798978355200\n",
      "Row: 623 User: ITVWales ID: 1388820825718116359\n",
      "Row: 624 User: ITVWales ID: 1388813048325058560\n",
      "Row: 625 User: ITVWales ID: 1388782677629837314\n",
      "Row: 626 User: ITVWales ID: 1388781746951446528\n",
      "Row: 627 User: ITVWales ID: 1388781745613459459\n",
      "Row: 628 User: ITVWales ID: 1388781744380391428\n",
      "Row: 629 User: ITVWales ID: 1388781742891356160\n",
      "Row: 630 User: ITVWales ID: 1388633548467445761\n",
      "Row: 631 User: ITVWales ID: 1388494105357996032\n",
      "Row: 632 User: ITVWales ID: 1388492086127779840\n",
      "Row: 633 User: ITVWales ID: 1388489574024945666\n",
      "Row: 634 User: ITVWales ID: 1388481296322736131\n",
      "Row: 635 User: ITVWales ID: 1388474930946265088\n",
      "Row: 636 User: ITVWales ID: 1388468331775205382\n",
      "Row: 637 User: ITVWales ID: 1388467288450519041\n",
      "Row: 638 User: ITVWales ID: 1388466411572535299\n",
      "Row: 639 User: ITVWales ID: 1388465793999020033\n",
      "Row: 640 User: ITVWales ID: 1388465792824512524\n",
      "Row: 641 User: ITVWales ID: 1388418733874483201\n",
      "Row: 642 User: ITVWales ID: 1388021598255521804\n",
      "Row: 643 User: ITVWales ID: 1388020657703751685\n",
      "Row: 644 User: ITVWales ID: 1387731798659055620\n",
      "Row: 645 User: ITVWales ID: 1387663234812022789\n",
      "Row: 646 User: ITVWales ID: 1387353889414995971\n",
      "Row: 647 User: ITVWales ID: 1387353571608436736\n",
      "Row: 648 User: ITVWales ID: 1386744775618015232\n",
      "Row: 649 User: ITVWales ID: 1386380706700476424\n",
      "Row: 650 User: ITVWales ID: 1386325585690079234\n",
      "Row: 651 User: ITVWales ID: 1386317863477252097\n",
      "Row: 652 User: ITVWales ID: 1386316793866821633\n",
      "Row: 653 User: ITVWales ID: 1386316624454721536\n",
      "Row: 654 User: ITVWales ID: 1386312355819130884\n",
      "Row: 655 User: ITVWales ID: 1386312141968269316\n",
      "Row: 656 User: ITVWales ID: 1386308320550662147\n",
      "Row: 657 User: ITVWales ID: 1386009916884848643\n",
      "Row: 658 User: ITVWales ID: 1386009544908754945\n",
      "Row: 659 User: ITVWales ID: 1386008025736093697\n"
     ]
    }
   ],
   "source": [
    "res = []\n",
    "row = 0\n",
    "\n",
    "for user in twitter_users:\n",
    "\n",
    "    tweets = api.user_timeline(screen_name=userID,   # 200 is the maximum allowed count\n",
    "                            count=200,\n",
    "                            include_rts = False,\n",
    "                            # Necessary to keep full_text \n",
    "                            # otherwise only the first 140 words are extracted\n",
    "                            tweet_mode = 'extended'\n",
    "                            )\n",
    "    tweets\n",
    "\n",
    "    for info in tweets:\n",
    "        print(f\"Row: {row} User: {user} ID: {info.id}\")\n",
    "        res.extend([user,info.id])\n",
    "        row = row + 1\n"
   ]
  },
  {
   "cell_type": "code",
   "execution_count": null,
   "metadata": {},
   "outputs": [],
   "source": [
    "# https://stackoverflow.com/questions/49731259/tweepy-get-tweets-between-two-dates"
   ]
  },
  {
   "cell_type": "code",
   "execution_count": 28,
   "metadata": {},
   "outputs": [],
   "source": [
    "\n",
    "username = 'RugbyScribbler'\n",
    "startDate = datetime.datetime(2020, 10, 1, 0, 0, 0)\n",
    "endDate =   datetime.datetime(2020, 12, 1, 0, 0, 0)\n",
    "\n",
    "tweets = []\n",
    "tmpTweets = api.user_timeline(username)\n",
    "for tweet in tmpTweets:\n",
    "    if tweet.created_at < endDate and tweet.created_at > startDate:\n",
    "        tweets.append(tweet)\n",
    "\n",
    "while (tmpTweets[-1].created_at > startDate):\n",
    "    tmpTweets = api.user_timeline(username, max_id = tmpTweets[-1].id)\n",
    "    for tweet in tmpTweets:\n",
    "        if tweet.created_at < endDate and tweet.created_at > startDate:\n",
    "            tweets.append(tweet)"
   ]
  },
  {
   "cell_type": "code",
   "execution_count": 29,
   "metadata": {},
   "outputs": [
    {
     "output_type": "execute_result",
     "data": {
      "text/plain": [
       "878"
      ]
     },
     "metadata": {},
     "execution_count": 29
    }
   ],
   "source": [
    "len(tweets)"
   ]
  },
  {
   "cell_type": "code",
   "execution_count": 31,
   "metadata": {},
   "outputs": [],
   "source": [
    "# tweets[0]"
   ]
  },
  {
   "cell_type": "code",
   "execution_count": 49,
   "metadata": {},
   "outputs": [],
   "source": [
    "# Function to get all tweet ID's from a given date range for a SINGLE USER\n",
    "def tweets_in_dates(user, startDateStr, endDateStr):\n",
    "    '''\n",
    "    username - a twitter user\n",
    "    startDate - earlist tweet we want in format 'YYYY-MM-DD'\n",
    "    endDate - most re ent tweet we want in format 'YYYY-MM-DD'\n",
    "    '''\n",
    "\n",
    "    # Convert date strings to datetime objects\n",
    "    startDate = datetime.datetime.strptime(startDateStr, '%Y-%m-%d')\n",
    "    endDate = datetime.datetime.strptime(endDateStr, '%Y-%m-%d')\n",
    "\n",
    "    tweets = []\n",
    "    tmpTweets = api.user_timeline(username)\n",
    "\n",
    "    for tweet in tmpTweets:\n",
    "        if tweet.created_at < endDate and tweet.created_at > startDate:\n",
    "            #tweets.append(tweet) # default\n",
    "            #tweets.append(tweet.id) #first attempt\n",
    "            tweets.append([user,tweet.id])\n",
    "\n",
    "\n",
    "    while (tmpTweets[-1].created_at > startDate):\n",
    "        tmpTweets = api.user_timeline(username, max_id = tmpTweets[-1].id)\n",
    "        for tweet in tmpTweets:\n",
    "            if tweet.created_at < endDate and tweet.created_at > startDate:\n",
    "                #tweets.append(tweet) # default\n",
    "                #tweets.append(tweet.id) #first attempt\n",
    "                tweets.append([user,tweet.id])\n",
    "\n",
    "    return tweets"
   ]
  },
  {
   "cell_type": "code",
   "execution_count": 50,
   "metadata": {},
   "outputs": [
    {
     "output_type": "execute_result",
     "data": {
      "text/plain": [
       "[['CNNChile', 1395824546507378697],\n",
       " ['CNNChile', 1395822544951914502],\n",
       " ['CNNChile', 1395820835148025857],\n",
       " ['CNNChile', 1395820825517989888],\n",
       " ['CNNChile', 1395753311182151681],\n",
       " ['CNNChile', 1395753060148916224],\n",
       " ['CNNChile', 1395719530110984193],\n",
       " ['CNNChile', 1395636903488204803],\n",
       " ['CNNChile', 1395636623279366146],\n",
       " ['CNNChile', 1395635867419545601],\n",
       " ['CNNChile', 1395489815437656064],\n",
       " ['CNNChile', 1395489815437656064],\n",
       " ['CNNChile', 1395471205587636224]]"
      ]
     },
     "metadata": {},
     "execution_count": 50
    }
   ],
   "source": [
    "tweets_in_dates('CNNChile', '2021-05-20', '2021-05-22' )"
   ]
  },
  {
   "cell_type": "code",
   "execution_count": 65,
   "metadata": {},
   "outputs": [],
   "source": [
    "\n",
    "\n",
    "def get_users_tweet_id_in_range(users, startDate, endDate):\n",
    "    '''\n",
    "    users - a list of twitter user\n",
    "    startDate - earlist tweet we want in format 'YYYY-MM-DD'\n",
    "    endDate - most re ent tweet we want in format 'YYYY-MM-DD'\n",
    "    '''\n",
    "\n",
    "    res = []\n",
    "\n",
    "    for user in users:\n",
    "\n",
    "        print(f\"User: {user} Number: {users.index(user)+1} of {len(users)}\")\n",
    "\n",
    "        # Append results of function to results\n",
    "        # Extend will insure everying is in the same list\n",
    "        # Append would create a list of lists\n",
    "        res.extend( tweets_in_dates(user, startDate, endDate ) )\n",
    "\n",
    "    #Convert results from list of list to DataFrame\n",
    "    tweets_df = pd.DataFrame.from_records(results, columns=['User', 'TweetId'])\n",
    "\n",
    "    return tweets_df\n"
   ]
  },
  {
   "cell_type": "code",
   "execution_count": 66,
   "metadata": {},
   "outputs": [
    {
     "output_type": "stream",
     "name": "stdout",
     "text": [
      "User: BBC Number: 1 of 5\n",
      "User: BBCWales Number: 2 of 5\n",
      "User: BBCEngland Number: 3 of 5\n",
      "User: BBCScotland Number: 4 of 5\n",
      "User: ITVWales Number: 5 of 5\n"
     ]
    }
   ],
   "source": [
    "uk_news_users = ['BBC', 'BBCWales', 'BBCEngland', 'BBCScotland', 'ITVWales']\n",
    "\n",
    "results = get_users_tweet_id_in_range(uk_news_users, '2021-05-20', '2021-05-22')"
   ]
  },
  {
   "cell_type": "code",
   "execution_count": 67,
   "metadata": {},
   "outputs": [
    {
     "output_type": "execute_result",
     "data": {
      "text/plain": [
       "        User              TweetId\n",
       "0        BBC  1395824546507378697\n",
       "1        BBC  1395822544951914502\n",
       "2        BBC  1395820835148025857\n",
       "3        BBC  1395820825517989888\n",
       "4        BBC  1395753311182151681\n",
       "..       ...                  ...\n",
       "60  ITVWales  1395636623279366146\n",
       "61  ITVWales  1395635867419545601\n",
       "62  ITVWales  1395635867419545601\n",
       "63  ITVWales  1395489815437656064\n",
       "64  ITVWales  1395471205587636224\n",
       "\n",
       "[65 rows x 2 columns]"
      ],
      "text/html": "<div>\n<style scoped>\n    .dataframe tbody tr th:only-of-type {\n        vertical-align: middle;\n    }\n\n    .dataframe tbody tr th {\n        vertical-align: top;\n    }\n\n    .dataframe thead th {\n        text-align: right;\n    }\n</style>\n<table border=\"1\" class=\"dataframe\">\n  <thead>\n    <tr style=\"text-align: right;\">\n      <th></th>\n      <th>User</th>\n      <th>TweetId</th>\n    </tr>\n  </thead>\n  <tbody>\n    <tr>\n      <th>0</th>\n      <td>BBC</td>\n      <td>1395824546507378697</td>\n    </tr>\n    <tr>\n      <th>1</th>\n      <td>BBC</td>\n      <td>1395822544951914502</td>\n    </tr>\n    <tr>\n      <th>2</th>\n      <td>BBC</td>\n      <td>1395820835148025857</td>\n    </tr>\n    <tr>\n      <th>3</th>\n      <td>BBC</td>\n      <td>1395820825517989888</td>\n    </tr>\n    <tr>\n      <th>4</th>\n      <td>BBC</td>\n      <td>1395753311182151681</td>\n    </tr>\n    <tr>\n      <th>...</th>\n      <td>...</td>\n      <td>...</td>\n    </tr>\n    <tr>\n      <th>60</th>\n      <td>ITVWales</td>\n      <td>1395636623279366146</td>\n    </tr>\n    <tr>\n      <th>61</th>\n      <td>ITVWales</td>\n      <td>1395635867419545601</td>\n    </tr>\n    <tr>\n      <th>62</th>\n      <td>ITVWales</td>\n      <td>1395635867419545601</td>\n    </tr>\n    <tr>\n      <th>63</th>\n      <td>ITVWales</td>\n      <td>1395489815437656064</td>\n    </tr>\n    <tr>\n      <th>64</th>\n      <td>ITVWales</td>\n      <td>1395471205587636224</td>\n    </tr>\n  </tbody>\n</table>\n<p>65 rows × 2 columns</p>\n</div>"
     },
     "metadata": {},
     "execution_count": 67
    }
   ],
   "source": [
    "results"
   ]
  },
  {
   "cell_type": "code",
   "execution_count": null,
   "metadata": {},
   "outputs": [],
   "source": []
  },
  {
   "cell_type": "code",
   "execution_count": null,
   "metadata": {},
   "outputs": [],
   "source": []
  },
  {
   "cell_type": "code",
   "execution_count": null,
   "metadata": {},
   "outputs": [],
   "source": []
  },
  {
   "cell_type": "code",
   "execution_count": null,
   "metadata": {},
   "outputs": [],
   "source": []
  }
 ]
}