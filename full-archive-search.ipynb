{
 "cells": [
  {
   "cell_type": "markdown",
   "metadata": {},
   "source": [
    "# Full Archive Search\n",
    "\n",
    "- Coppying form this github page https://github.com/twitterdev/Twitter-API-v2-sample-code/blob/master/Full-Archive-Search/full-archive-search.py"
   ]
  },
  {
   "cell_type": "code",
   "execution_count": null,
   "metadata": {},
   "outputs": [],
   "source": [
    "import os\n",
    "from twitter_scraping import twitter_scraper\n",
    "\n",
    "# Import key from environment variable to keep my credentials secret\n",
    "bearer_token = os.environ[\"twitter_bearer_token\"]"
   ]
  },
  {
   "cell_type": "code",
   "execution_count": null,
   "metadata": {},
   "outputs": [],
   "source": [
    "ts = twitter_scraper(bearer_token)"
   ]
  },
  {
   "cell_type": "markdown",
   "metadata": {},
   "source": [
    "# Turn into function for a given user\n",
    "\n",
    "Got it to work here, try to functionise it"
   ]
  },
  {
   "cell_type": "code",
   "execution_count": null,
   "metadata": {},
   "outputs": [],
   "source": [
    "%%time\n",
    "ts.get_users_tweets([\"nigel_farage\"],\"2019-10-01T00:00:00.00Z\",\"2019-11-01T00:00:00.00Z\")"
   ]
  },
  {
   "cell_type": "code",
   "execution_count": null,
   "metadata": {},
   "outputs": [],
   "source": [
    "%%time\n",
    "CNNChile_tweets = ts.get_users_tweets(['CNNChile'],\"2019-10-01T00:00:00.00Z\",\"2019-10-07T00:00:00.00Z\")"
   ]
  },
  {
   "cell_type": "markdown",
   "metadata": {},
   "source": [
    "# Chilian News sources\n",
    "\n",
    "### So far these are the sources that have been identified as potentially interesting:\n",
    "\n",
    "- El Mercurio (@ElMercurio_cl) / Twitter\n",
    "- La Tercera (@latercera) / Twitter\n",
    "- laSegunda (@La_Segunda) / Twitter\n",
    "- Las Últimas Noticias (@lun) / Twitter\n",
    "- La Cuarta (@lacuarta) / Twitter\n",
    "- Meganoticias (@meganoticiascl) / Twitter\n",
    "- Canal 13 (@canal13) / Twitter\n",
    "- TVN (@TVN) / Twitter\n",
    "- 24 Horas (@24HorasTVN) / Twitter\n",
    "- La Nación Chile (@nacioncl) / Twitter\n",
    "- Diario Financiero (@DFinanciero) / Twitter\n",
    "- Chilevisión (@chilevision) / Twitter\n",
    "- UCV Radio 103.5 FM (@ucvradio) / Twitter\n",
    "- LaRed (@LaRedTV) / Twitter\n",
    "- Cooperativa (@Cooperativa) / Twitter\n",
    "- Radio Pudahuel (@RadioPudahuel) / Twitter\n",
    "- BioBioChile (@biobio) / Twitter\n",
    "- El Conquistador 91.3 (@FMConquistador) / Twitter\n",
    "- EL INFORMADORCHILE🇨🇱 (@INFORMADORCHILE) / Twitter\n",
    "- CNN Chile (@CNNChile) / Twitter\n",
    "- CHV Noticias (@CHVNoticias) / Twitter\n",
    "- El Mostrador (@elmostrador) / Twitter\n",
    "- Publimetro (@PublimetroChile) / Twitter\n",
    "- El Desconcierto (@eldesconcierto) / Twitter\n",
    "- El Dínamo (@el_dinamo) / Twitter\n",
    "- El Ciudadano (@El_Ciudadano) / Twitter\n",
    "- El Líbero (@elliberocl) / Twitter\n",
    "- (4) Diario El Observador (@eo_enlinea) / Twitter\n",
    "\n",
    "\n",
    "\n",
    "\n",
    "In terms of the time period, if you could look between October 18, 2019 and November 18, 2019, that would be some cool gravy.\n",
    "\n",
    "\n"
   ]
  },
  {
   "cell_type": "code",
   "execution_count": null,
   "metadata": {},
   "outputs": [],
   "source": [
    "%%time\n",
    "\n",
    "chile_news_users = ['ElMercurio_cl',\n",
    "                    'latercera',\n",
    "                    'La_Segunda',\n",
    "                    'lun',\n",
    "                    'lacuarta',\n",
    "                    'meganoticiascl',\n",
    "                    'canal13',\n",
    "                    'TVN',\n",
    "                    '24HorasTVN',\n",
    "                    'nacioncl',\n",
    "                    'DFinanciero',\n",
    "                    'chilevision',\n",
    "                    'ucvradio',\n",
    "                    'LaRedTV',\n",
    "                    'Cooperativa',\n",
    "                    'RadioPudahuel',\n",
    "                    'biobio',\n",
    "                    'FMConquistador',\n",
    "                    'INFORMADORCHILE',\n",
    "                    'CNNChile',\n",
    "                    'CHVNoticias',\n",
    "                    'elmostrador',\n",
    "                    'PublimetroChile',\n",
    "                    'eldesconcierto',\n",
    "                    'el_dinamo',\n",
    "                    'El_Ciudadano',\n",
    "                    'elliberocl',\n",
    "                    'eo_enlinea']\n",
    "\n",
    "\n",
    "start_date = \"2019-10-01T00:00:00.00Z\"\n",
    "end_date = \"2019-11-01T00:00:00.00Z\""
   ]
  },
  {
   "cell_type": "code",
   "execution_count": null,
   "metadata": {},
   "outputs": [],
   "source": [
    "start_date = \"2019-10-01T00:00:00.00Z\"\n",
    "end_date = \"2019-11-01T00:00:00.00Z\"\n",
    "\n",
    "# Try getting just the dates we want in 2019\n",
    "results = ts.get_users_tweets(chile_news_users, start_date, end_date)"
   ]
  },
  {
   "cell_type": "code",
   "execution_count": null,
   "metadata": {},
   "outputs": [],
   "source": [
    "results"
   ]
  },
  {
   "cell_type": "code",
   "execution_count": null,
   "metadata": {},
   "outputs": [],
   "source": [
    "results.to_csv('chile_news_2019_10_01_to_2019_11_01.csv')"
   ]
  },
  {
   "cell_type": "code",
   "execution_count": null,
   "metadata": {},
   "outputs": [],
   "source": [
    "results['User'].value_counts()"
   ]
  }
 ],
 "metadata": {
  "kernelspec": {
   "display_name": "Python 3.10.4 ('twitter_scraping')",
   "language": "python",
   "name": "python3"
  },
  "language_info": {
   "codemirror_mode": {
    "name": "ipython",
    "version": 3
   },
   "file_extension": ".py",
   "mimetype": "text/x-python",
   "name": "python",
   "nbconvert_exporter": "python",
   "pygments_lexer": "ipython3",
   "version": "3.10.4"
  },
  "orig_nbformat": 2,
  "vscode": {
   "interpreter": {
    "hash": "671e37286a88e4deab955730fbc96219c4d8a59a405d8ba3190d5d9a90bdb905"
   }
  }
 },
 "nbformat": 4,
 "nbformat_minor": 2
}
