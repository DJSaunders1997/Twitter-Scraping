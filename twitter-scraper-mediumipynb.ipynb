{
 "metadata": {
  "language_info": {
   "codemirror_mode": {
    "name": "ipython",
    "version": 3
   },
   "file_extension": ".py",
   "mimetype": "text/x-python",
   "name": "python",
   "nbconvert_exporter": "python",
   "pygments_lexer": "ipython3",
   "version": "3.9.0"
  },
  "orig_nbformat": 2,
  "kernelspec": {
   "name": "python390jvsc74a57bd063fd5069d213b44bf678585dea6b12cceca9941eaf7f819626cde1f2670de90d",
   "display_name": "Python 3.9.0 64-bit"
  }
 },
 "nbformat": 4,
 "nbformat_minor": 2,
 "cells": [
  {
   "cell_type": "code",
   "execution_count": 1,
   "metadata": {},
   "outputs": [],
   "source": [
    "#https://medium.com/analytics-vidhya/a-treasure-map-to-twitter-data-via-tweepy-b7e3d624d88d"
   ]
  },
  {
   "cell_type": "code",
   "execution_count": 6,
   "metadata": {},
   "outputs": [],
   "source": [
    "#1\n",
    "# Import keys from file not commited to GitHub to keep my credentials secret\n",
    "from setup_api import consumerKey, consumerSecret, accessToken, accessTokenSecret\n",
    "import tweepy\n",
    "import numpy as np\n",
    "\n",
    "# Authenticate with Tweepy\n",
    "auth = tweepy.OAuthHandler(consumerKey, consumerSecret)\n",
    "auth.set_access_token(accessToken, accessTokenSecret)\n",
    "\n",
    "api = tweepy.API(auth, wait_on_rate_limit=True, wait_on_rate_limit_notify=True)"
   ]
  },
  {
   "cell_type": "code",
   "execution_count": 7,
   "metadata": {},
   "outputs": [
    {
     "output_type": "stream",
     "name": "stdout",
     "text": [
      "User screen name is:  FMConquistador\nUsers id in twitter db is:  140123901\nUsers info shown on twitter is:  El Conquistador 91.3\nUser was created at:  2010-05-04 17:09:44\n"
     ]
    }
   ],
   "source": [
    "#2\n",
    "\n",
    "# Fetch twitter user id of an account you know the screen name\n",
    "user_name = \"FMConquistador\"\n",
    "user_object = api.get_user(id=user_name)\n",
    "print(\"User screen name is: \", user_object.screen_name)\n",
    "print(\"Users id in twitter db is: \", user_object.id)\n",
    "print(\"Users info shown on twitter is: \", user_object.name)\n",
    "print(\"User was created at: \", user_object.created_at)\n",
    "\n",
    "user_id = user_object.id"
   ]
  },
  {
   "cell_type": "code",
   "execution_count": 23,
   "metadata": {},
   "outputs": [
    {
     "output_type": "stream",
     "name": "stdout",
     "text": [
      "You may want to save the timeline ids over there, to not to lose them during execution\n"
     ]
    }
   ],
   "source": [
    "#3\n",
    "\n",
    "# Fetch tweet ids from a timeline \n",
    "# Use these block if this is there is no saved tweets from \n",
    "# this account or you dont plan to use since_id functionality \n",
    "import time \n",
    "from datetime import datetime\n",
    "\n",
    "counter = 0\n",
    "timeline_ids = list()\n",
    "start_time = datetime.now()\n",
    "\n",
    "try:\n",
    "    for status in tweepy.Cursor(api.user_timeline, user_id=user_id).items():\n",
    "        # process status here\n",
    "        timeline_ids.append(status.id)\n",
    "        end_time = datetime.now()\n",
    "        if np.ceil((end_time - start_time).seconds / 60) >= 12:\n",
    "            print(\"Worked for 12 minutes, waiting for 15 minutes now\")\n",
    "            print(datetime.now())\n",
    "            time.sleep(60 * 15)\n",
    "            start_time = datetime.now()\n",
    "            end_time = datetime.now()\n",
    "\n",
    "        counter += 1\n",
    "except tweepy.RateLimitError as e:\n",
    "    print(\"Rate limit error exceed waiting for 15 secs\")\n",
    "    print(datetime.now())\n",
    "    print(\"You may want to save the timeline ids over there, to not to lose them during execution\")\n",
    "    time.sleep(60 * 15)\n",
    "    start_time = datetime.now()\n",
    "    end_time = datetime.now()\n",
    "\n",
    "print(\"You may want to save the timeline ids over there, to not to lose them during execution\")"
   ]
  },
  {
   "cell_type": "code",
   "execution_count": 24,
   "metadata": {},
   "outputs": [
    {
     "output_type": "execute_result",
     "data": {
      "text/plain": [
       "3250"
      ]
     },
     "metadata": {},
     "execution_count": 24
    }
   ],
   "source": [
    "len(timeline_ids)"
   ]
  },
  {
   "cell_type": "code",
   "execution_count": 25,
   "metadata": {},
   "outputs": [
    {
     "output_type": "execute_result",
     "data": {
      "text/plain": [
       "1171165605011120128"
      ]
     },
     "metadata": {},
     "execution_count": 25
    }
   ],
   "source": [
    "some_max_id = timeline_ids[-1]\n",
    "some_max_id"
   ]
  },
  {
   "cell_type": "code",
   "execution_count": 26,
   "metadata": {},
   "outputs": [
    {
     "output_type": "stream",
     "name": "stdout",
     "text": [
      "You may want to save the timeline ids over there, to not to lose them during execution\n"
     ]
    }
   ],
   "source": [
    "# Use this block, if you have the ids from the previous run and you can utilize the since_id.\n",
    "\n",
    "import time \n",
    "from datetime import datetime\n",
    "\n",
    "# Get the max_id that already  resides in db\n",
    "max_id_in_town = some_max_id\n",
    "counter = 0\n",
    "timeline_ids = list()\n",
    "start_time = datetime.now()\n",
    "try:\n",
    "    for status in tweepy.Cursor(api.user_timeline, user_id=user_id, since_id=max_id_in_town).items():\n",
    "        # process status here\n",
    "        timeline_ids.append(status.id)\n",
    "        end_time = datetime.now()\n",
    "        if np.ceil((end_time - start_time).seconds / 60) >= 12:\n",
    "            print(\"Worked for 12 mins, waiting for 15 mins now\")\n",
    "            print(datetime.now())\n",
    "            print(\"You may want to save the timeline ids over there, to not to lose them during execution\")\n",
    "            time.sleep(60 * 15)\n",
    "            start_time = datetime.now()\n",
    "            end_time = datetime.now()\n",
    "\n",
    "        counter += 1\n",
    "except tweepy.RateLimitError as e:\n",
    "    print(\"Rate limit error exceed waiting for 15 secs\")\n",
    "    print(datetime.now())\n",
    "    print(\"You may want to save the timeline ids over there, to not to lose them during execution\")\n",
    "    time.sleep(60 * 15)\n",
    "    start_time = datetime.now()\n",
    "    end_time = datetime.now()\n",
    "print(\"You may want to save the timeline ids over there, to not to lose them during execution\")"
   ]
  },
  {
   "cell_type": "code",
   "execution_count": 21,
   "metadata": {},
   "outputs": [
    {
     "output_type": "execute_result",
     "data": {
      "text/plain": [
       "[]"
      ]
     },
     "metadata": {},
     "execution_count": 21
    }
   ],
   "source": [
    "timeline_ids"
   ]
  },
  {
   "cell_type": "code",
   "execution_count": 22,
   "metadata": {},
   "outputs": [
    {
     "output_type": "execute_result",
     "data": {
      "text/plain": [
       "0"
      ]
     },
     "metadata": {},
     "execution_count": 22
    }
   ],
   "source": [
    "len(timeline_ids)"
   ]
  }
 ]
}