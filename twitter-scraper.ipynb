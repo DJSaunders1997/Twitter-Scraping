{
 "metadata": {
  "language_info": {
   "codemirror_mode": {
    "name": "ipython",
    "version": 3
   },
   "file_extension": ".py",
   "mimetype": "text/x-python",
   "name": "python",
   "nbconvert_exporter": "python",
   "pygments_lexer": "ipython3",
   "version": "3.9.0"
  },
  "orig_nbformat": 2,
  "kernelspec": {
   "name": "python390jvsc74a57bd063fd5069d213b44bf678585dea6b12cceca9941eaf7f819626cde1f2670de90d",
   "display_name": "Python 3.9.0 64-bit"
  }
 },
 "nbformat": 4,
 "nbformat_minor": 2,
 "cells": [
  {
   "cell_type": "code",
   "execution_count": 1,
   "metadata": {},
   "outputs": [],
   "source": [
    "# https://docs.tweepy.org/en/v3.5.0/getting_started.html"
   ]
  },
  {
   "cell_type": "code",
   "execution_count": 2,
   "metadata": {},
   "outputs": [],
   "source": [
    "# Import keys from file not commited to GitHub to keep my credentials secret\n",
    "from setup_api import consumerKey, consumerSecret, accessToken, accessTokenSecret\n",
    "\n",
    "import tweepy\n",
    "import datetime\n",
    "import pandas as pd"
   ]
  },
  {
   "cell_type": "code",
   "execution_count": 5,
   "metadata": {},
   "outputs": [],
   "source": [
    "# https://stackoverflow.com/questions/49731259/tweepy-get-tweets-between-two-dates\n",
    "\n",
    "# Function to get all tweet ID's from a given date range for a SINGLE USER\n",
    "def tweets_in_dates(user, startDateStr, endDateStr):\n",
    "    '''\n",
    "    user - a twitter user\n",
    "    startDate - earlist tweet we want in format 'YYYY-MM-DD'\n",
    "    endDate - most re ent tweet we want in format 'YYYY-MM-DD'\n",
    "    '''\n",
    "\n",
    "    # Convert date strings to datetime objects\n",
    "    startDate = datetime.datetime.strptime(startDateStr, '%Y-%m-%d')\n",
    "    endDate = datetime.datetime.strptime(endDateStr, '%Y-%m-%d')\n",
    "\n",
    "    tweets = []\n",
    "    tmpTweets = api.user_timeline(user)\n",
    "\n",
    "    for tweet in tmpTweets:\n",
    "        if tweet.created_at < endDate and tweet.created_at > startDate:\n",
    "            #tweets.append(tweet) # default\n",
    "            #tweets.append(tweet.id) #first attempt\n",
    "            tweets.append([user,tweet.id])\n",
    "\n",
    "\n",
    "    while (tmpTweets[-1].created_at > startDate):\n",
    "        tmpTweets = api.user_timeline(user, max_id = tmpTweets[-1].id)\n",
    "        for tweet in tmpTweets:\n",
    "            if tweet.created_at < endDate and tweet.created_at > startDate:\n",
    "                #tweets.append(tweet) # default\n",
    "                #tweets.append(tweet.id) #first attempt\n",
    "                tweets.append([user,tweet.id])\n",
    "\n",
    "    return tweets"
   ]
  },
  {
   "cell_type": "code",
   "execution_count": 6,
   "metadata": {},
   "outputs": [],
   "source": [
    "\n",
    "# Function to get all tweet ID's from a given date range for a list of users\n",
    "\n",
    "def get_users_tweet_id_in_range(users, startDate, endDate):\n",
    "    '''\n",
    "    users - a list of twitter user\n",
    "    startDate - earlist tweet we want in format 'YYYY-MM-DD'\n",
    "    endDate - most re ent tweet we want in format 'YYYY-MM-DD'\n",
    "    '''\n",
    "\n",
    "    res = []\n",
    "\n",
    "    for user in users:\n",
    "\n",
    "        print(f\"User: {user} Number: {users.index(user)+1} of {len(users)}\")\n",
    "\n",
    "        # Append results of function to results\n",
    "        # Extend will insure everying is in the same list\n",
    "        # Append would create a list of lists\n",
    "        res.extend( tweets_in_dates(user, startDate, endDate ) )\n",
    "\n",
    "    #Convert results from list of list to DataFrame\n",
    "    tweets_df = pd.DataFrame.from_records(res, columns=['User', 'TweetId'])\n",
    "\n",
    "    return tweets_df\n"
   ]
  },
  {
   "cell_type": "code",
   "execution_count": 7,
   "metadata": {},
   "outputs": [
    {
     "output_type": "stream",
     "name": "stdout",
     "text": [
      "User: BBC Number: 1 of 5\n",
      "User: BBCWales Number: 2 of 5\n",
      "User: BBCEngland Number: 3 of 5\n",
      "User: BBCScotland Number: 4 of 5\n",
      "User: ITVWales Number: 5 of 5\n"
     ]
    }
   ],
   "source": [
    "uk_news_users = ['BBC', 'BBCWales', 'BBCEngland', 'BBCScotland', 'ITVWales']\n",
    "\n",
    "results = get_users_tweet_id_in_range(uk_news_users, '2021-05-20', '2021-05-22')"
   ]
  },
  {
   "cell_type": "code",
   "execution_count": 8,
   "metadata": {},
   "outputs": [
    {
     "output_type": "execute_result",
     "data": {
      "text/plain": [
       "         User              TweetId\n",
       "0         BBC  1395726076903526400\n",
       "1         BBC  1395418580896919554\n",
       "2         BBC  1395352481400512513\n",
       "3         BBC  1395348587345707015\n",
       "4    BBCWales  1395841074246135809\n",
       "..        ...                  ...\n",
       "130  ITVWales  1395338845173043201\n",
       "131  ITVWales  1395338006630916102\n",
       "132  ITVWales  1395270118402412547\n",
       "133  ITVWales  1395266195440472068\n",
       "134  ITVWales  1395260845077241856\n",
       "\n",
       "[135 rows x 2 columns]"
      ],
      "text/html": "<div>\n<style scoped>\n    .dataframe tbody tr th:only-of-type {\n        vertical-align: middle;\n    }\n\n    .dataframe tbody tr th {\n        vertical-align: top;\n    }\n\n    .dataframe thead th {\n        text-align: right;\n    }\n</style>\n<table border=\"1\" class=\"dataframe\">\n  <thead>\n    <tr style=\"text-align: right;\">\n      <th></th>\n      <th>User</th>\n      <th>TweetId</th>\n    </tr>\n  </thead>\n  <tbody>\n    <tr>\n      <th>0</th>\n      <td>BBC</td>\n      <td>1395726076903526400</td>\n    </tr>\n    <tr>\n      <th>1</th>\n      <td>BBC</td>\n      <td>1395418580896919554</td>\n    </tr>\n    <tr>\n      <th>2</th>\n      <td>BBC</td>\n      <td>1395352481400512513</td>\n    </tr>\n    <tr>\n      <th>3</th>\n      <td>BBC</td>\n      <td>1395348587345707015</td>\n    </tr>\n    <tr>\n      <th>4</th>\n      <td>BBCWales</td>\n      <td>1395841074246135809</td>\n    </tr>\n    <tr>\n      <th>...</th>\n      <td>...</td>\n      <td>...</td>\n    </tr>\n    <tr>\n      <th>130</th>\n      <td>ITVWales</td>\n      <td>1395338845173043201</td>\n    </tr>\n    <tr>\n      <th>131</th>\n      <td>ITVWales</td>\n      <td>1395338006630916102</td>\n    </tr>\n    <tr>\n      <th>132</th>\n      <td>ITVWales</td>\n      <td>1395270118402412547</td>\n    </tr>\n    <tr>\n      <th>133</th>\n      <td>ITVWales</td>\n      <td>1395266195440472068</td>\n    </tr>\n    <tr>\n      <th>134</th>\n      <td>ITVWales</td>\n      <td>1395260845077241856</td>\n    </tr>\n  </tbody>\n</table>\n<p>135 rows × 2 columns</p>\n</div>"
     },
     "metadata": {},
     "execution_count": 8
    }
   ],
   "source": [
    "results"
   ]
  },
  {
   "cell_type": "code",
   "execution_count": null,
   "metadata": {},
   "outputs": [],
   "source": []
  }
 ]
}